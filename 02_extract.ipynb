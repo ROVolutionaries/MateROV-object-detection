{
 "cells": [
  {
   "cell_type": "code",
   "execution_count": 58,
   "id": "7dfabca3-94ff-4fe3-8afa-3addf81489af",
   "metadata": {},
   "outputs": [],
   "source": [
    "import os\n",
    "from glob import glob\n",
    "import pandas as pd\n",
    "from functools import reduce\n",
    "import json\n",
    "from shutil import move\n",
    "import yaml"
   ]
  },
  {
   "cell_type": "code",
   "execution_count": 61,
   "id": "cf144720-6f8c-4391-9e7d-cb2f9535a0b3",
   "metadata": {},
   "outputs": [
    {
     "name": "stdout",
     "output_type": "stream",
     "text": [
      "Updated JSON file saved to data.json\n",
      "No entries were deleted.\n",
      "Extra JSON entries (not having corresponding image files): 0\n",
      "Extra image files (not referenced in JSON): 0\n",
      "Filtered data saved to JSON file.\n",
      "Cleanup complete.\n",
      "Total number of json files 0\n",
      "Number of files: 5183\n",
      "Total size in bytes: 7084580378\n"
     ]
    }
   ],
   "source": [
    "!python3 cleanup.py"
   ]
  },
  {
   "cell_type": "code",
   "execution_count": 41,
   "id": "073da631-db0f-490d-8aef-4439df159609",
   "metadata": {},
   "outputs": [],
   "source": [
    "def extract_json(filename):\n",
    "    json_file_path = filename\n",
    "    parser = []\n",
    "    \n",
    "    with open(json_file_path, \"r\") as file:\n",
    "        data = json.load(file)\n",
    "\n",
    "    for file in data:\n",
    "        filename = os.path.join(file[\"uuid\"] + \".png\")\n",
    "\n",
    "        imgwidth = file[\"width\"]\n",
    "        imgheight = file[\"height\"]\n",
    "        \n",
    "        for box in file[\"boundingBoxes\"]:\n",
    "            name = box[\"concept\"]\n",
    "    \n",
    "            boxx = box[\"x\"]\n",
    "            boxy = box[\"y\"]\n",
    "            boxwidth = box[\"width\"]\n",
    "            boxheight = box[\"height\"]\n",
    "            \n",
    "            parser.append([filename, imgwidth, imgheight, name, boxwidth, boxheight, boxx, boxy])\n",
    "\n",
    "    return parser"
   ]
  },
  {
   "cell_type": "code",
   "execution_count": 42,
   "id": "04f0ce72-fdf7-4808-9cc7-3c1ea41aceed",
   "metadata": {},
   "outputs": [],
   "source": [
    "df = pd.DataFrame(extract_json(\"data.json\"), columns = [\"filename\", \"imgwidth\", \"imgheight\", \"name\", \"boxwidth\", \"boxheight\", \"boxx\", \"boxy\"])"
   ]
  },
  {
   "cell_type": "code",
   "execution_count": 43,
   "id": "a51fe1b4-6fca-4954-8350-8d6790e544bb",
   "metadata": {},
   "outputs": [
    {
     "name": "stdout",
     "output_type": "stream",
     "text": [
      "<class 'pandas.core.frame.DataFrame'>\n",
      "RangeIndex: 19966 entries, 0 to 19965\n",
      "Data columns (total 8 columns):\n",
      " #   Column     Non-Null Count  Dtype \n",
      "---  ------     --------------  ----- \n",
      " 0   filename   19966 non-null  object\n",
      " 1   imgwidth   19966 non-null  int64 \n",
      " 2   imgheight  19966 non-null  int64 \n",
      " 3   name       19966 non-null  object\n",
      " 4   boxwidth   19966 non-null  int64 \n",
      " 5   boxheight  19966 non-null  int64 \n",
      " 6   boxx       19966 non-null  int64 \n",
      " 7   boxy       19966 non-null  int64 \n",
      "dtypes: int64(6), object(2)\n",
      "memory usage: 1.2+ MB\n"
     ]
    },
    {
     "data": {
      "text/plain": [
       "name\n",
       "Ophiuroidea                    10629\n",
       "Crinoidea                        693\n",
       "Strongylocentrotus fragilis      439\n",
       "Holothuroidea                    401\n",
       "Scotoplanes                      395\n",
       "                               ...  \n",
       "Bathybembix                        1\n",
       "Cataetyx                           1\n",
       "Scaphopoda                         1\n",
       "Albatrossia pectoralis             1\n",
       "Brisingidae                        1\n",
       "Name: count, Length: 431, dtype: int64"
      ]
     },
     "execution_count": 43,
     "metadata": {},
     "output_type": "execute_result"
    }
   ],
   "source": [
    "df.info()\n",
    "df[\"name\"].value_counts()"
   ]
  },
  {
   "cell_type": "code",
   "execution_count": 44,
   "id": "cfb2354b-8b66-4aef-8dbe-1c13b4fa68cf",
   "metadata": {},
   "outputs": [
    {
     "data": {
      "text/html": [
       "<div>\n",
       "<style scoped>\n",
       "    .dataframe tbody tr th:only-of-type {\n",
       "        vertical-align: middle;\n",
       "    }\n",
       "\n",
       "    .dataframe tbody tr th {\n",
       "        vertical-align: top;\n",
       "    }\n",
       "\n",
       "    .dataframe thead th {\n",
       "        text-align: right;\n",
       "    }\n",
       "</style>\n",
       "<table border=\"1\" class=\"dataframe\">\n",
       "  <thead>\n",
       "    <tr style=\"text-align: right;\">\n",
       "      <th></th>\n",
       "      <th>filename</th>\n",
       "      <th>imgwidth</th>\n",
       "      <th>imgheight</th>\n",
       "      <th>name</th>\n",
       "      <th>boxwidth</th>\n",
       "      <th>boxheight</th>\n",
       "      <th>boxx</th>\n",
       "      <th>boxy</th>\n",
       "      <th>center_x</th>\n",
       "      <th>center_y</th>\n",
       "      <th>w</th>\n",
       "      <th>h</th>\n",
       "    </tr>\n",
       "  </thead>\n",
       "  <tbody>\n",
       "    <tr>\n",
       "      <th>0</th>\n",
       "      <td>a5bd67a6-9a0f-45b3-85a7-017d5f77fc66.png</td>\n",
       "      <td>715</td>\n",
       "      <td>486</td>\n",
       "      <td>Actiniaria</td>\n",
       "      <td>76</td>\n",
       "      <td>83</td>\n",
       "      <td>638</td>\n",
       "      <td>400</td>\n",
       "      <td>0.945455</td>\n",
       "      <td>0.908436</td>\n",
       "      <td>0.106294</td>\n",
       "      <td>0.170782</td>\n",
       "    </tr>\n",
       "    <tr>\n",
       "      <th>1</th>\n",
       "      <td>a5bd67a6-9a0f-45b3-85a7-017d5f77fc66.png</td>\n",
       "      <td>715</td>\n",
       "      <td>486</td>\n",
       "      <td>Sebastolobus</td>\n",
       "      <td>95</td>\n",
       "      <td>53</td>\n",
       "      <td>522</td>\n",
       "      <td>108</td>\n",
       "      <td>0.796503</td>\n",
       "      <td>0.276749</td>\n",
       "      <td>0.132867</td>\n",
       "      <td>0.109053</td>\n",
       "    </tr>\n",
       "    <tr>\n",
       "      <th>2</th>\n",
       "      <td>a5bd67a6-9a0f-45b3-85a7-017d5f77fc66.png</td>\n",
       "      <td>715</td>\n",
       "      <td>486</td>\n",
       "      <td>Ophiuroidea</td>\n",
       "      <td>37</td>\n",
       "      <td>42</td>\n",
       "      <td>421</td>\n",
       "      <td>116</td>\n",
       "      <td>0.614685</td>\n",
       "      <td>0.281893</td>\n",
       "      <td>0.051748</td>\n",
       "      <td>0.086420</td>\n",
       "    </tr>\n",
       "    <tr>\n",
       "      <th>3</th>\n",
       "      <td>a5bd67a6-9a0f-45b3-85a7-017d5f77fc66.png</td>\n",
       "      <td>715</td>\n",
       "      <td>486</td>\n",
       "      <td>Psolus squamatus</td>\n",
       "      <td>113</td>\n",
       "      <td>85</td>\n",
       "      <td>391</td>\n",
       "      <td>378</td>\n",
       "      <td>0.625874</td>\n",
       "      <td>0.865226</td>\n",
       "      <td>0.158042</td>\n",
       "      <td>0.174897</td>\n",
       "    </tr>\n",
       "    <tr>\n",
       "      <th>4</th>\n",
       "      <td>a5bd67a6-9a0f-45b3-85a7-017d5f77fc66.png</td>\n",
       "      <td>715</td>\n",
       "      <td>486</td>\n",
       "      <td>Actiniaria</td>\n",
       "      <td>67</td>\n",
       "      <td>67</td>\n",
       "      <td>645</td>\n",
       "      <td>132</td>\n",
       "      <td>0.948951</td>\n",
       "      <td>0.340535</td>\n",
       "      <td>0.093706</td>\n",
       "      <td>0.137860</td>\n",
       "    </tr>\n",
       "  </tbody>\n",
       "</table>\n",
       "</div>"
      ],
      "text/plain": [
       "                                   filename  imgwidth  imgheight  \\\n",
       "0  a5bd67a6-9a0f-45b3-85a7-017d5f77fc66.png       715        486   \n",
       "1  a5bd67a6-9a0f-45b3-85a7-017d5f77fc66.png       715        486   \n",
       "2  a5bd67a6-9a0f-45b3-85a7-017d5f77fc66.png       715        486   \n",
       "3  a5bd67a6-9a0f-45b3-85a7-017d5f77fc66.png       715        486   \n",
       "4  a5bd67a6-9a0f-45b3-85a7-017d5f77fc66.png       715        486   \n",
       "\n",
       "               name  boxwidth  boxheight  boxx  boxy  center_x  center_y  \\\n",
       "0        Actiniaria        76         83   638   400  0.945455  0.908436   \n",
       "1      Sebastolobus        95         53   522   108  0.796503  0.276749   \n",
       "2       Ophiuroidea        37         42   421   116  0.614685  0.281893   \n",
       "3  Psolus squamatus       113         85   391   378  0.625874  0.865226   \n",
       "4        Actiniaria        67         67   645   132  0.948951  0.340535   \n",
       "\n",
       "          w         h  \n",
       "0  0.106294  0.170782  \n",
       "1  0.132867  0.109053  \n",
       "2  0.051748  0.086420  \n",
       "3  0.158042  0.174897  \n",
       "4  0.093706  0.137860  "
      ]
     },
     "execution_count": 44,
     "metadata": {},
     "output_type": "execute_result"
    }
   ],
   "source": [
    "columns = [\"filename\", \"imgwidth\", \"imgheight\", \"name\", \"boxwidth\", \"boxheight\", \"boxx\", \"boxy\"]\n",
    "\n",
    "df[\"center_x\"] = ((df[\"boxwidth\"] / 2 + df[\"boxx\"]) / df[\"imgwidth\"])\n",
    "df[\"center_y\"] = ((df[\"boxheight\"] / 2 + df[\"boxy\"]) / df[\"imgheight\"])\n",
    "\n",
    "df[\"w\"] = df[\"boxwidth\"] / df[\"imgwidth\"]\n",
    "df[\"h\"] = df[\"boxheight\"] / df[\"imgheight\"]\n",
    "df.head()"
   ]
  },
  {
   "cell_type": "code",
   "execution_count": 45,
   "id": "1ff3f555-b08f-41f5-aa57-cb5804072101",
   "metadata": {},
   "outputs": [],
   "source": [
    "unique_names = df[\"name\"].unique()\n",
    "\n",
    "labels = dict()\n",
    "for num in range(len(unique_names)):\n",
    "    labels[unique_names[num]] = num\n",
    "\n",
    "df[\"id\"] = df[\"name\"].map(labels)"
   ]
  },
  {
   "cell_type": "code",
   "execution_count": 46,
   "id": "5e0aa0a4-41d7-4eab-888c-fc2437e9138e",
   "metadata": {},
   "outputs": [
    {
     "data": {
      "text/plain": [
       "2591"
      ]
     },
     "execution_count": 46,
     "metadata": {},
     "output_type": "execute_result"
    }
   ],
   "source": [
    "images = df['filename'].unique()\n",
    "len(images)"
   ]
  },
  {
   "cell_type": "code",
   "execution_count": 47,
   "id": "37c43283-4edc-4909-a44d-62044c43cf57",
   "metadata": {},
   "outputs": [
    {
     "data": {
      "text/html": [
       "<div>\n",
       "<style scoped>\n",
       "    .dataframe tbody tr th:only-of-type {\n",
       "        vertical-align: middle;\n",
       "    }\n",
       "\n",
       "    .dataframe tbody tr th {\n",
       "        vertical-align: top;\n",
       "    }\n",
       "\n",
       "    .dataframe thead th {\n",
       "        text-align: right;\n",
       "    }\n",
       "</style>\n",
       "<table border=\"1\" class=\"dataframe\">\n",
       "  <thead>\n",
       "    <tr style=\"text-align: right;\">\n",
       "      <th></th>\n",
       "      <th>filename</th>\n",
       "    </tr>\n",
       "  </thead>\n",
       "  <tbody>\n",
       "    <tr>\n",
       "      <th>0</th>\n",
       "      <td>a5bd67a6-9a0f-45b3-85a7-017d5f77fc66.png</td>\n",
       "    </tr>\n",
       "    <tr>\n",
       "      <th>1</th>\n",
       "      <td>cc3640a1-beb6-454b-9f86-02942a7c4006.png</td>\n",
       "    </tr>\n",
       "    <tr>\n",
       "      <th>2</th>\n",
       "      <td>2f3758f6-2fc1-4c18-b8af-02ccb66f8c36.png</td>\n",
       "    </tr>\n",
       "    <tr>\n",
       "      <th>3</th>\n",
       "      <td>02d00747-6b43-4bd4-8095-031c6fec4eb0.png</td>\n",
       "    </tr>\n",
       "    <tr>\n",
       "      <th>4</th>\n",
       "      <td>a1011047-2d88-4703-b11b-0334b1cc95e3.png</td>\n",
       "    </tr>\n",
       "  </tbody>\n",
       "</table>\n",
       "</div>"
      ],
      "text/plain": [
       "                                   filename\n",
       "0  a5bd67a6-9a0f-45b3-85a7-017d5f77fc66.png\n",
       "1  cc3640a1-beb6-454b-9f86-02942a7c4006.png\n",
       "2  2f3758f6-2fc1-4c18-b8af-02ccb66f8c36.png\n",
       "3  02d00747-6b43-4bd4-8095-031c6fec4eb0.png\n",
       "4  a1011047-2d88-4703-b11b-0334b1cc95e3.png"
      ]
     },
     "execution_count": 47,
     "metadata": {},
     "output_type": "execute_result"
    }
   ],
   "source": [
    "img_df = pd.DataFrame(images, columns=['filename'])\n",
    "img_df.head()"
   ]
  },
  {
   "cell_type": "code",
   "execution_count": 48,
   "id": "0b6176dd-a156-4f2f-9bbb-16e249468910",
   "metadata": {},
   "outputs": [],
   "source": [
    "img_train = tuple(img_df.sample(frac=0.8)['filename'])\n",
    "#shuffling data and picking 80% of images"
   ]
  },
  {
   "cell_type": "code",
   "execution_count": 49,
   "id": "f8929a90-2359-470a-bd97-326ffc3be364",
   "metadata": {
    "scrolled": true
   },
   "outputs": [
    {
     "data": {
      "text/plain": [
       "(2073, 518)"
      ]
     },
     "execution_count": 49,
     "metadata": {},
     "output_type": "execute_result"
    }
   ],
   "source": [
    "#picking all images that were not in the 80% train set (the other 20%)\n",
    "img_test = tuple(img_df[~img_df['filename'].isin(img_train)]['filename'])\n",
    "len(img_train), len(img_test) #length of each set"
   ]
  },
  {
   "cell_type": "code",
   "execution_count": 50,
   "id": "62626f34-1c69-46b8-8042-dae96915fdf0",
   "metadata": {},
   "outputs": [],
   "source": [
    "#making dataframes\n",
    "train_df = df.query(f'filename in {img_train}')\n",
    "test_df = df.query(f'filename in {img_test}')"
   ]
  },
  {
   "cell_type": "code",
   "execution_count": 51,
   "id": "68974d27-dd9b-4ac3-9846-e8f4f32e0c6c",
   "metadata": {},
   "outputs": [
    {
     "data": {
      "text/html": [
       "<div>\n",
       "<style scoped>\n",
       "    .dataframe tbody tr th:only-of-type {\n",
       "        vertical-align: middle;\n",
       "    }\n",
       "\n",
       "    .dataframe tbody tr th {\n",
       "        vertical-align: top;\n",
       "    }\n",
       "\n",
       "    .dataframe thead th {\n",
       "        text-align: right;\n",
       "    }\n",
       "</style>\n",
       "<table border=\"1\" class=\"dataframe\">\n",
       "  <thead>\n",
       "    <tr style=\"text-align: right;\">\n",
       "      <th></th>\n",
       "      <th>filename</th>\n",
       "      <th>imgwidth</th>\n",
       "      <th>imgheight</th>\n",
       "      <th>name</th>\n",
       "      <th>boxwidth</th>\n",
       "      <th>boxheight</th>\n",
       "      <th>boxx</th>\n",
       "      <th>boxy</th>\n",
       "      <th>center_x</th>\n",
       "      <th>center_y</th>\n",
       "      <th>w</th>\n",
       "      <th>h</th>\n",
       "      <th>id</th>\n",
       "    </tr>\n",
       "  </thead>\n",
       "  <tbody>\n",
       "    <tr>\n",
       "      <th>83</th>\n",
       "      <td>624bc9f2-9979-4df8-8b86-03f557c6fda4.png</td>\n",
       "      <td>1600</td>\n",
       "      <td>900</td>\n",
       "      <td>Ophiuroidea</td>\n",
       "      <td>400</td>\n",
       "      <td>787</td>\n",
       "      <td>665</td>\n",
       "      <td>35</td>\n",
       "      <td>0.540625</td>\n",
       "      <td>0.476111</td>\n",
       "      <td>0.250000</td>\n",
       "      <td>0.874444</td>\n",
       "      <td>2</td>\n",
       "    </tr>\n",
       "    <tr>\n",
       "      <th>107</th>\n",
       "      <td>153d5239-f2d6-4b6b-bdc8-066ca000ccd8.png</td>\n",
       "      <td>714</td>\n",
       "      <td>486</td>\n",
       "      <td>Sebastolobus</td>\n",
       "      <td>39</td>\n",
       "      <td>46</td>\n",
       "      <td>294</td>\n",
       "      <td>209</td>\n",
       "      <td>0.439076</td>\n",
       "      <td>0.477366</td>\n",
       "      <td>0.054622</td>\n",
       "      <td>0.094650</td>\n",
       "      <td>1</td>\n",
       "    </tr>\n",
       "    <tr>\n",
       "      <th>108</th>\n",
       "      <td>153d5239-f2d6-4b6b-bdc8-066ca000ccd8.png</td>\n",
       "      <td>714</td>\n",
       "      <td>486</td>\n",
       "      <td>Ophiuroidea</td>\n",
       "      <td>52</td>\n",
       "      <td>36</td>\n",
       "      <td>359</td>\n",
       "      <td>250</td>\n",
       "      <td>0.539216</td>\n",
       "      <td>0.551440</td>\n",
       "      <td>0.072829</td>\n",
       "      <td>0.074074</td>\n",
       "      <td>2</td>\n",
       "    </tr>\n",
       "    <tr>\n",
       "      <th>109</th>\n",
       "      <td>153d5239-f2d6-4b6b-bdc8-066ca000ccd8.png</td>\n",
       "      <td>714</td>\n",
       "      <td>486</td>\n",
       "      <td>Pannychia moseleyi</td>\n",
       "      <td>41</td>\n",
       "      <td>25</td>\n",
       "      <td>450</td>\n",
       "      <td>335</td>\n",
       "      <td>0.658964</td>\n",
       "      <td>0.715021</td>\n",
       "      <td>0.057423</td>\n",
       "      <td>0.051440</td>\n",
       "      <td>16</td>\n",
       "    </tr>\n",
       "    <tr>\n",
       "      <th>145</th>\n",
       "      <td>05d21c38-47fb-4dfd-80d7-0a2c8076a3d2.png</td>\n",
       "      <td>704</td>\n",
       "      <td>483</td>\n",
       "      <td>Bathyraja abyssicola</td>\n",
       "      <td>611</td>\n",
       "      <td>236</td>\n",
       "      <td>2</td>\n",
       "      <td>158</td>\n",
       "      <td>0.436790</td>\n",
       "      <td>0.571429</td>\n",
       "      <td>0.867898</td>\n",
       "      <td>0.488613</td>\n",
       "      <td>29</td>\n",
       "    </tr>\n",
       "  </tbody>\n",
       "</table>\n",
       "</div>"
      ],
      "text/plain": [
       "                                     filename  imgwidth  imgheight  \\\n",
       "83   624bc9f2-9979-4df8-8b86-03f557c6fda4.png      1600        900   \n",
       "107  153d5239-f2d6-4b6b-bdc8-066ca000ccd8.png       714        486   \n",
       "108  153d5239-f2d6-4b6b-bdc8-066ca000ccd8.png       714        486   \n",
       "109  153d5239-f2d6-4b6b-bdc8-066ca000ccd8.png       714        486   \n",
       "145  05d21c38-47fb-4dfd-80d7-0a2c8076a3d2.png       704        483   \n",
       "\n",
       "                     name  boxwidth  boxheight  boxx  boxy  center_x  \\\n",
       "83            Ophiuroidea       400        787   665    35  0.540625   \n",
       "107          Sebastolobus        39         46   294   209  0.439076   \n",
       "108           Ophiuroidea        52         36   359   250  0.539216   \n",
       "109    Pannychia moseleyi        41         25   450   335  0.658964   \n",
       "145  Bathyraja abyssicola       611        236     2   158  0.436790   \n",
       "\n",
       "     center_y         w         h  id  \n",
       "83   0.476111  0.250000  0.874444   2  \n",
       "107  0.477366  0.054622  0.094650   1  \n",
       "108  0.551440  0.072829  0.074074   2  \n",
       "109  0.715021  0.057423  0.051440  16  \n",
       "145  0.571429  0.867898  0.488613  29  "
      ]
     },
     "execution_count": 51,
     "metadata": {},
     "output_type": "execute_result"
    }
   ],
   "source": [
    "train_df.head()\n",
    "test_df.head()"
   ]
  },
  {
   "cell_type": "code",
   "execution_count": 52,
   "id": "6619b13a-6e75-480a-befe-aac2b748bac7",
   "metadata": {},
   "outputs": [],
   "source": [
    "os.makedirs(\"images/images/train\", exist_ok=True)\n",
    "os.makedirs(\"images/images/val\", exist_ok=True)\n",
    "os.makedirs(\"images/labels/train\", exist_ok=True)\n",
    "os.makedirs(\"images/labels/val\", exist_ok=True)"
   ]
  },
  {
   "cell_type": "code",
   "execution_count": 53,
   "id": "ec7450c0-98c9-4978-8c70-a7fb7c8a66a6",
   "metadata": {},
   "outputs": [],
   "source": [
    "columns = [\"filename\", \"id\", \"center_x\", \"center_y\", \"w\", \"h\"]\n",
    "groupby_obj_train = train_df[columns].groupby(\"filename\")\n",
    "groupby_obj_test = test_df[columns].groupby(\"filename\")"
   ]
  },
  {
   "cell_type": "code",
   "execution_count": 54,
   "id": "dd8faa9b-cf5d-4ade-af9e-a7de1bd1a0a8",
   "metadata": {},
   "outputs": [],
   "source": [
    "def save_data(filename, images_folder_path, labels_folder_path, group_obj):\n",
    "    source = os.path.join(\"images\", filename)\n",
    "    destination = os.path.join(images_folder_path, filename)\n",
    "    move(source, destination)\n",
    "\n",
    "    text_filename = os.path.join(labels_folder_path,os.path.splitext(filename)[0] + \".txt\")\n",
    "    group_obj.get_group(filename).set_index(\"filename\").to_csv(text_filename,sep=' ',index=False,header=False) "
   ]
  },
  {
   "cell_type": "code",
   "execution_count": 55,
   "id": "62589c29-4288-47b2-b903-6307e51db8eb",
   "metadata": {},
   "outputs": [
    {
     "data": {
      "text/plain": [
       "0       None\n",
       "1       None\n",
       "2       None\n",
       "3       None\n",
       "4       None\n",
       "        ... \n",
       "2068    None\n",
       "2069    None\n",
       "2070    None\n",
       "2071    None\n",
       "2072    None\n",
       "Length: 2073, dtype: object"
      ]
     },
     "execution_count": 55,
     "metadata": {},
     "output_type": "execute_result"
    }
   ],
   "source": [
    "filename_series_train = pd.Series(groupby_obj_train.groups.keys())\n",
    "filename_series_train.apply(save_data,args=(\"images/images/train\",\"images/labels/train\",groupby_obj_train))"
   ]
  },
  {
   "cell_type": "code",
   "execution_count": 56,
   "id": "ccdf18b4-61a9-4da2-a3d7-a948ae6418fc",
   "metadata": {},
   "outputs": [
    {
     "data": {
      "text/plain": [
       "0      None\n",
       "1      None\n",
       "2      None\n",
       "3      None\n",
       "4      None\n",
       "       ... \n",
       "513    None\n",
       "514    None\n",
       "515    None\n",
       "516    None\n",
       "517    None\n",
       "Length: 518, dtype: object"
      ]
     },
     "execution_count": 56,
     "metadata": {},
     "output_type": "execute_result"
    }
   ],
   "source": [
    "filename_series_test = pd.Series(groupby_obj_test.groups.keys())\n",
    "filename_series_test.apply(save_data,args=(\"images/images/val\",\"images/labels/val\",groupby_obj_test))"
   ]
  },
  {
   "cell_type": "code",
   "execution_count": 57,
   "id": "b22a0145-b7ad-4e13-abe6-43d9b150d4d3",
   "metadata": {},
   "outputs": [],
   "source": [
    "data = {\n",
    "    'train': 'images/images/train',\n",
    "    'val': 'images/images/test',\n",
    "    'nc': len(labels), \n",
    "    'names': list(labels.keys()) \n",
    "}\n",
    "\n",
    "with open('data.yaml', 'w') as file:\n",
    "    yaml.dump(data, file, default_flow_style=False, sort_keys=False)"
   ]
  }
 ],
 "metadata": {
  "kernelspec": {
   "display_name": "Python 3 (ipykernel)",
   "language": "python",
   "name": "python3"
  },
  "language_info": {
   "codemirror_mode": {
    "name": "ipython",
    "version": 3
   },
   "file_extension": ".py",
   "mimetype": "text/x-python",
   "name": "python",
   "nbconvert_exporter": "python",
   "pygments_lexer": "ipython3",
   "version": "3.12.0"
  }
 },
 "nbformat": 4,
 "nbformat_minor": 5
}
