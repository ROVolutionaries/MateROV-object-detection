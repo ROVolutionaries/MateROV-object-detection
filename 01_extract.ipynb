{
 "cells": [
  {
   "cell_type": "code",
   "execution_count": 1,
   "id": "7dfabca3-94ff-4fe3-8afa-3addf81489af",
   "metadata": {},
   "outputs": [],
   "source": [
    "import os\n",
    "from glob import glob\n",
    "import pandas as pd\n",
    "from functools import reduce\n",
    "import json"
   ]
  },
  {
   "cell_type": "code",
   "execution_count": 2,
   "id": "073da631-db0f-490d-8aef-4439df159609",
   "metadata": {},
   "outputs": [],
   "source": [
    "def extract_json(filename):\n",
    "    json_file_path = filename\n",
    "    parser = []\n",
    "    \n",
    "    with open(json_file_path, \"r\") as file:\n",
    "        data = json.load(file)\n",
    "    \n",
    "    for file in data:\n",
    "        filename = os.path.join(file[\"uuid\"] + \".png\")\n",
    "        imgwidth = file[\"width\"]\n",
    "        imgheight = file[\"height\"]\n",
    "        \n",
    "        for box in file[\"boundingBoxes\"]:\n",
    "            name = box[\"concept\"]\n",
    "    \n",
    "            boxx = box[\"x\"]\n",
    "            boxy = box[\"y\"]\n",
    "            boxwidth = box[\"width\"]\n",
    "            boxheight = box[\"height\"]\n",
    "            \n",
    "            parser.append([filename, imgwidth, imgheight, name, boxwidth, boxheight, boxx, boxy])\n",
    "\n",
    "    return parser"
   ]
  },
  {
   "cell_type": "code",
   "execution_count": 3,
   "id": "04f0ce72-fdf7-4808-9cc7-3c1ea41aceed",
   "metadata": {},
   "outputs": [],
   "source": [
    "df = pd.DataFrame(extract_json(\"Ophiuroidea.json\"), columns = [\"filename\", \"imgwidth\", \"imgheight\", \"name\", \"boxwidth\", \"boxheight\", \"boxx\", \"boxy\"])"
   ]
  },
  {
   "cell_type": "code",
   "execution_count": 80,
   "id": "a51fe1b4-6fca-4954-8350-8d6790e544bb",
   "metadata": {},
   "outputs": [
    {
     "name": "stdout",
     "output_type": "stream",
     "text": [
      "<class 'pandas.core.frame.DataFrame'>\n",
      "RangeIndex: 2 entries, 0 to 1\n",
      "Data columns (total 12 columns):\n",
      " #   Column     Non-Null Count  Dtype  \n",
      "---  ------     --------------  -----  \n",
      " 0   filename   2 non-null      object \n",
      " 1   imgwidth   2 non-null      int64  \n",
      " 2   imgheight  2 non-null      int64  \n",
      " 3   name       2 non-null      object \n",
      " 4   boxwidth   2 non-null      int64  \n",
      " 5   boxheight  2 non-null      int64  \n",
      " 6   boxx       2 non-null      int64  \n",
      " 7   boxy       2 non-null      int64  \n",
      " 8   center_x   2 non-null      float64\n",
      " 9   center_y   2 non-null      float64\n",
      " 10  w          2 non-null      float64\n",
      " 11  h          2 non-null      float64\n",
      "dtypes: float64(4), int64(6), object(2)\n",
      "memory usage: 324.0+ bytes\n"
     ]
    },
    {
     "data": {
      "text/plain": [
       "name\n",
       "Plexauridae    1\n",
       "Ophiuroidea    1\n",
       "Name: count, dtype: int64"
      ]
     },
     "execution_count": 80,
     "metadata": {},
     "output_type": "execute_result"
    }
   ],
   "source": [
    "df.info()\n",
    "df[\"name\"].value_counts()"
   ]
  },
  {
   "cell_type": "code",
   "execution_count": 22,
   "id": "cfb2354b-8b66-4aef-8dbe-1c13b4fa68cf",
   "metadata": {},
   "outputs": [
    {
     "data": {
      "text/html": [
       "<div>\n",
       "<style scoped>\n",
       "    .dataframe tbody tr th:only-of-type {\n",
       "        vertical-align: middle;\n",
       "    }\n",
       "\n",
       "    .dataframe tbody tr th {\n",
       "        vertical-align: top;\n",
       "    }\n",
       "\n",
       "    .dataframe thead th {\n",
       "        text-align: right;\n",
       "    }\n",
       "</style>\n",
       "<table border=\"1\" class=\"dataframe\">\n",
       "  <thead>\n",
       "    <tr style=\"text-align: right;\">\n",
       "      <th></th>\n",
       "      <th>filename</th>\n",
       "      <th>imgwidth</th>\n",
       "      <th>imgheight</th>\n",
       "      <th>name</th>\n",
       "      <th>boxwidth</th>\n",
       "      <th>boxheight</th>\n",
       "      <th>boxx</th>\n",
       "      <th>boxy</th>\n",
       "      <th>center_x</th>\n",
       "      <th>center_y</th>\n",
       "      <th>w</th>\n",
       "      <th>h</th>\n",
       "    </tr>\n",
       "  </thead>\n",
       "  <tbody>\n",
       "    <tr>\n",
       "      <th>0</th>\n",
       "      <td>b0e7924d-53c4-4560-a041-d810195da943.png</td>\n",
       "      <td>1600</td>\n",
       "      <td>900</td>\n",
       "      <td>Plexauridae</td>\n",
       "      <td>1613</td>\n",
       "      <td>916</td>\n",
       "      <td>0</td>\n",
       "      <td>0</td>\n",
       "      <td>0.504062</td>\n",
       "      <td>0.508889</td>\n",
       "      <td>1.008125</td>\n",
       "      <td>1.017778</td>\n",
       "    </tr>\n",
       "    <tr>\n",
       "      <th>1</th>\n",
       "      <td>b0e7924d-53c4-4560-a041-d810195da943.png</td>\n",
       "      <td>1600</td>\n",
       "      <td>900</td>\n",
       "      <td>Ophiuroidea</td>\n",
       "      <td>1496</td>\n",
       "      <td>900</td>\n",
       "      <td>0</td>\n",
       "      <td>0</td>\n",
       "      <td>0.467500</td>\n",
       "      <td>0.500000</td>\n",
       "      <td>0.935000</td>\n",
       "      <td>1.000000</td>\n",
       "    </tr>\n",
       "  </tbody>\n",
       "</table>\n",
       "</div>"
      ],
      "text/plain": [
       "                                   filename  imgwidth  imgheight         name  \\\n",
       "0  b0e7924d-53c4-4560-a041-d810195da943.png      1600        900  Plexauridae   \n",
       "1  b0e7924d-53c4-4560-a041-d810195da943.png      1600        900  Ophiuroidea   \n",
       "\n",
       "   boxwidth  boxheight  boxx  boxy  center_x  center_y         w         h  \n",
       "0      1613        916     0     0  0.504062  0.508889  1.008125  1.017778  \n",
       "1      1496        900     0     0  0.467500  0.500000  0.935000  1.000000  "
      ]
     },
     "execution_count": 22,
     "metadata": {},
     "output_type": "execute_result"
    }
   ],
   "source": [
    "columns = [\"filename\", \"imgwidth\", \"imgheight\", \"name\", \"boxwidth\", \"boxheight\", \"boxx\", \"boxy\"]\n",
    "\n",
    "df[\"center_x\"] = ((df[\"boxwidth\"] / 2 + df[\"boxx\"]) / df[\"imgwidth\"])\n",
    "df[\"center_y\"] = ((df[\"boxheight\"] / 2 + df[\"boxy\"]) / df[\"imgheight\"])\n",
    "\n",
    "df[\"w\"] = df[\"boxwidth\"] / df[\"imgwidth\"]\n",
    "df[\"h\"] = df[\"boxheight\"] / df[\"imgheight\"]\n",
    "df.head()"
   ]
  },
  {
   "cell_type": "code",
   "execution_count": 78,
   "id": "5e0aa0a4-41d7-4eab-888c-fc2437e9138e",
   "metadata": {},
   "outputs": [],
   "source": [
    "images = df['filename'].unique()\n",
    "len(images)"
   ]
  },
  {
   "cell_type": "code",
   "execution_count": 60,
   "id": "37c43283-4edc-4909-a44d-62044c43cf57",
   "metadata": {},
   "outputs": [],
   "source": [
    "img_df = pd.DataFrame(images, columns=['filename'])"
   ]
  },
  {
   "cell_type": "code",
   "execution_count": 61,
   "id": "0b6176dd-a156-4f2f-9bbb-16e249468910",
   "metadata": {},
   "outputs": [],
   "source": [
    "img_train = tuple(img_df.sample(frac=0.8)['filename'])\n",
    "#shuffling data and picking 80% of images"
   ]
  },
  {
   "cell_type": "code",
   "execution_count": 79,
   "id": "f8929a90-2359-470a-bd97-326ffc3be364",
   "metadata": {
    "scrolled": true
   },
   "outputs": [
    {
     "data": {
      "text/plain": [
       "(1, 0)"
      ]
     },
     "execution_count": 79,
     "metadata": {},
     "output_type": "execute_result"
    }
   ],
   "source": [
    "#picking all images that were not in the 80% train set (the other 20%)\n",
    "img_test = tuple(img_df[~img_df['filename'].isin(img_train)]['filename'])\n",
    "len(img_train), len(img_test) #length of each set"
   ]
  },
  {
   "cell_type": "code",
   "execution_count": 74,
   "id": "62626f34-1c69-46b8-8042-dae96915fdf0",
   "metadata": {},
   "outputs": [],
   "source": [
    "#making dataframes\n",
    "train_df = df.query(f'filename in {img_train}') \n",
    "test_df = df.query(f'filename in {img_test}')"
   ]
  },
  {
   "cell_type": "code",
   "execution_count": 77,
   "id": "68974d27-dd9b-4ac3-9846-e8f4f32e0c6c",
   "metadata": {},
   "outputs": [
    {
     "data": {
      "text/html": [
       "<div>\n",
       "<style scoped>\n",
       "    .dataframe tbody tr th:only-of-type {\n",
       "        vertical-align: middle;\n",
       "    }\n",
       "\n",
       "    .dataframe tbody tr th {\n",
       "        vertical-align: top;\n",
       "    }\n",
       "\n",
       "    .dataframe thead th {\n",
       "        text-align: right;\n",
       "    }\n",
       "</style>\n",
       "<table border=\"1\" class=\"dataframe\">\n",
       "  <thead>\n",
       "    <tr style=\"text-align: right;\">\n",
       "      <th></th>\n",
       "      <th>filename</th>\n",
       "      <th>imgwidth</th>\n",
       "      <th>imgheight</th>\n",
       "      <th>name</th>\n",
       "      <th>boxwidth</th>\n",
       "      <th>boxheight</th>\n",
       "      <th>boxx</th>\n",
       "      <th>boxy</th>\n",
       "      <th>center_x</th>\n",
       "      <th>center_y</th>\n",
       "      <th>w</th>\n",
       "      <th>h</th>\n",
       "    </tr>\n",
       "  </thead>\n",
       "  <tbody>\n",
       "  </tbody>\n",
       "</table>\n",
       "</div>"
      ],
      "text/plain": [
       "Empty DataFrame\n",
       "Columns: [filename, imgwidth, imgheight, name, boxwidth, boxheight, boxx, boxy, center_x, center_y, w, h]\n",
       "Index: []"
      ]
     },
     "execution_count": 77,
     "metadata": {},
     "output_type": "execute_result"
    }
   ],
   "source": [
    "train_df.head()"
   ]
  },
  {
   "cell_type": "code",
   "execution_count": null,
   "id": "6619b13a-6e75-480a-befe-aac2b748bac7",
   "metadata": {},
   "outputs": [],
   "source": [
    "test_df.head()"
   ]
  },
  {
   "cell_type": "code",
   "execution_count": null,
   "id": "ec7450c0-98c9-4978-8c70-a7fb7c8a66a6",
   "metadata": {},
   "outputs": [],
   "source": [
    "#Converting species names into label encoding (IDs)\n"
   ]
  }
 ],
 "metadata": {
  "kernelspec": {
   "display_name": "Python 3 (ipykernel)",
   "language": "python",
   "name": "python3"
  },
  "language_info": {
   "codemirror_mode": {
    "name": "ipython",
    "version": 3
   },
   "file_extension": ".py",
   "mimetype": "text/x-python",
   "name": "python",
   "nbconvert_exporter": "python",
   "pygments_lexer": "ipython3",
   "version": "3.11.9"
  }
 },
 "nbformat": 4,
 "nbformat_minor": 5
}
