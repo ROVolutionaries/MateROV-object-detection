{
 "cells": [
  {
   "cell_type": "code",
   "execution_count": 82,
   "id": "7dfabca3-94ff-4fe3-8afa-3addf81489af",
   "metadata": {},
   "outputs": [],
   "source": [
    "import os\n",
    "from glob import glob\n",
    "import pandas as pd\n",
    "from functools import reduce\n",
    "import json\n",
    "from shutil import move\n",
    "import yaml"
   ]
  },
  {
   "cell_type": "code",
   "execution_count": 57,
   "id": "073da631-db0f-490d-8aef-4439df159609",
   "metadata": {},
   "outputs": [],
   "source": [
    "def extract_json(filename):\n",
    "    json_file_path = filename\n",
    "    parser = []\n",
    "    \n",
    "    with open(json_file_path, \"r\") as file:\n",
    "        data = json.load(file)\n",
    "\n",
    "    for file in data:\n",
    "        filename = os.path.join(file[\"uuid\"] + \".png\")\n",
    "\n",
    "        imgwidth = file[\"width\"]\n",
    "        imgheight = file[\"height\"]\n",
    "        \n",
    "        for box in file[\"boundingBoxes\"]:\n",
    "            name = box[\"concept\"]\n",
    "    \n",
    "            boxx = box[\"x\"]\n",
    "            boxy = box[\"y\"]\n",
    "            boxwidth = box[\"width\"]\n",
    "            boxheight = box[\"height\"]\n",
    "            \n",
    "            parser.append([filename, imgwidth, imgheight, name, boxwidth, boxheight, boxx, boxy])\n",
    "\n",
    "    return parser"
   ]
  },
  {
   "cell_type": "code",
   "execution_count": 58,
   "id": "04f0ce72-fdf7-4808-9cc7-3c1ea41aceed",
   "metadata": {},
   "outputs": [],
   "source": [
    "df = pd.DataFrame(extract_json(\"data.json\"), columns = [\"filename\", \"imgwidth\", \"imgheight\", \"name\", \"boxwidth\", \"boxheight\", \"boxx\", \"boxy\"])"
   ]
  },
  {
   "cell_type": "code",
   "execution_count": 59,
   "id": "a51fe1b4-6fca-4954-8350-8d6790e544bb",
   "metadata": {},
   "outputs": [
    {
     "name": "stdout",
     "output_type": "stream",
     "text": [
      "<class 'pandas.core.frame.DataFrame'>\n",
      "RangeIndex: 20626 entries, 0 to 20625\n",
      "Data columns (total 8 columns):\n",
      " #   Column     Non-Null Count  Dtype \n",
      "---  ------     --------------  ----- \n",
      " 0   filename   20626 non-null  object\n",
      " 1   imgwidth   20626 non-null  int64 \n",
      " 2   imgheight  20626 non-null  int64 \n",
      " 3   name       20626 non-null  object\n",
      " 4   boxwidth   20626 non-null  int64 \n",
      " 5   boxheight  20626 non-null  int64 \n",
      " 6   boxx       20626 non-null  int64 \n",
      " 7   boxy       20626 non-null  int64 \n",
      "dtypes: int64(6), object(2)\n",
      "memory usage: 1.3+ MB\n"
     ]
    },
    {
     "data": {
      "text/plain": [
       "name\n",
       "Ophiuroidea                    10983\n",
       "Crinoidea                        710\n",
       "Strongylocentrotus fragilis      471\n",
       "Holothuroidea                    412\n",
       "Scotoplanes                      406\n",
       "                               ...  \n",
       "Apristurus kampae                  1\n",
       "Iosactis                           1\n",
       "eggcase                            1\n",
       "Thenea                             1\n",
       "Brisingidae                        1\n",
       "Name: count, Length: 442, dtype: int64"
      ]
     },
     "execution_count": 59,
     "metadata": {},
     "output_type": "execute_result"
    }
   ],
   "source": [
    "df.info()\n",
    "df[\"name\"].value_counts()"
   ]
  },
  {
   "cell_type": "code",
   "execution_count": 60,
   "id": "cfb2354b-8b66-4aef-8dbe-1c13b4fa68cf",
   "metadata": {},
   "outputs": [
    {
     "data": {
      "text/html": [
       "<div>\n",
       "<style scoped>\n",
       "    .dataframe tbody tr th:only-of-type {\n",
       "        vertical-align: middle;\n",
       "    }\n",
       "\n",
       "    .dataframe tbody tr th {\n",
       "        vertical-align: top;\n",
       "    }\n",
       "\n",
       "    .dataframe thead th {\n",
       "        text-align: right;\n",
       "    }\n",
       "</style>\n",
       "<table border=\"1\" class=\"dataframe\">\n",
       "  <thead>\n",
       "    <tr style=\"text-align: right;\">\n",
       "      <th></th>\n",
       "      <th>filename</th>\n",
       "      <th>imgwidth</th>\n",
       "      <th>imgheight</th>\n",
       "      <th>name</th>\n",
       "      <th>boxwidth</th>\n",
       "      <th>boxheight</th>\n",
       "      <th>boxx</th>\n",
       "      <th>boxy</th>\n",
       "      <th>center_x</th>\n",
       "      <th>center_y</th>\n",
       "      <th>w</th>\n",
       "      <th>h</th>\n",
       "    </tr>\n",
       "  </thead>\n",
       "  <tbody>\n",
       "    <tr>\n",
       "      <th>0</th>\n",
       "      <td>a5bd67a6-9a0f-45b3-85a7-017d5f77fc66.png</td>\n",
       "      <td>715</td>\n",
       "      <td>486</td>\n",
       "      <td>Actiniaria</td>\n",
       "      <td>76</td>\n",
       "      <td>83</td>\n",
       "      <td>638</td>\n",
       "      <td>400</td>\n",
       "      <td>0.945455</td>\n",
       "      <td>0.908436</td>\n",
       "      <td>0.106294</td>\n",
       "      <td>0.170782</td>\n",
       "    </tr>\n",
       "    <tr>\n",
       "      <th>1</th>\n",
       "      <td>a5bd67a6-9a0f-45b3-85a7-017d5f77fc66.png</td>\n",
       "      <td>715</td>\n",
       "      <td>486</td>\n",
       "      <td>Sebastolobus</td>\n",
       "      <td>95</td>\n",
       "      <td>53</td>\n",
       "      <td>522</td>\n",
       "      <td>108</td>\n",
       "      <td>0.796503</td>\n",
       "      <td>0.276749</td>\n",
       "      <td>0.132867</td>\n",
       "      <td>0.109053</td>\n",
       "    </tr>\n",
       "    <tr>\n",
       "      <th>2</th>\n",
       "      <td>a5bd67a6-9a0f-45b3-85a7-017d5f77fc66.png</td>\n",
       "      <td>715</td>\n",
       "      <td>486</td>\n",
       "      <td>Ophiuroidea</td>\n",
       "      <td>37</td>\n",
       "      <td>42</td>\n",
       "      <td>421</td>\n",
       "      <td>116</td>\n",
       "      <td>0.614685</td>\n",
       "      <td>0.281893</td>\n",
       "      <td>0.051748</td>\n",
       "      <td>0.086420</td>\n",
       "    </tr>\n",
       "    <tr>\n",
       "      <th>3</th>\n",
       "      <td>a5bd67a6-9a0f-45b3-85a7-017d5f77fc66.png</td>\n",
       "      <td>715</td>\n",
       "      <td>486</td>\n",
       "      <td>Psolus squamatus</td>\n",
       "      <td>113</td>\n",
       "      <td>85</td>\n",
       "      <td>391</td>\n",
       "      <td>378</td>\n",
       "      <td>0.625874</td>\n",
       "      <td>0.865226</td>\n",
       "      <td>0.158042</td>\n",
       "      <td>0.174897</td>\n",
       "    </tr>\n",
       "    <tr>\n",
       "      <th>4</th>\n",
       "      <td>a5bd67a6-9a0f-45b3-85a7-017d5f77fc66.png</td>\n",
       "      <td>715</td>\n",
       "      <td>486</td>\n",
       "      <td>Actiniaria</td>\n",
       "      <td>67</td>\n",
       "      <td>67</td>\n",
       "      <td>645</td>\n",
       "      <td>132</td>\n",
       "      <td>0.948951</td>\n",
       "      <td>0.340535</td>\n",
       "      <td>0.093706</td>\n",
       "      <td>0.137860</td>\n",
       "    </tr>\n",
       "  </tbody>\n",
       "</table>\n",
       "</div>"
      ],
      "text/plain": [
       "                                   filename  imgwidth  imgheight  \\\n",
       "0  a5bd67a6-9a0f-45b3-85a7-017d5f77fc66.png       715        486   \n",
       "1  a5bd67a6-9a0f-45b3-85a7-017d5f77fc66.png       715        486   \n",
       "2  a5bd67a6-9a0f-45b3-85a7-017d5f77fc66.png       715        486   \n",
       "3  a5bd67a6-9a0f-45b3-85a7-017d5f77fc66.png       715        486   \n",
       "4  a5bd67a6-9a0f-45b3-85a7-017d5f77fc66.png       715        486   \n",
       "\n",
       "               name  boxwidth  boxheight  boxx  boxy  center_x  center_y  \\\n",
       "0        Actiniaria        76         83   638   400  0.945455  0.908436   \n",
       "1      Sebastolobus        95         53   522   108  0.796503  0.276749   \n",
       "2       Ophiuroidea        37         42   421   116  0.614685  0.281893   \n",
       "3  Psolus squamatus       113         85   391   378  0.625874  0.865226   \n",
       "4        Actiniaria        67         67   645   132  0.948951  0.340535   \n",
       "\n",
       "          w         h  \n",
       "0  0.106294  0.170782  \n",
       "1  0.132867  0.109053  \n",
       "2  0.051748  0.086420  \n",
       "3  0.158042  0.174897  \n",
       "4  0.093706  0.137860  "
      ]
     },
     "execution_count": 60,
     "metadata": {},
     "output_type": "execute_result"
    }
   ],
   "source": [
    "columns = [\"filename\", \"imgwidth\", \"imgheight\", \"name\", \"boxwidth\", \"boxheight\", \"boxx\", \"boxy\"]\n",
    "\n",
    "df[\"center_x\"] = ((df[\"boxwidth\"] / 2 + df[\"boxx\"]) / df[\"imgwidth\"])\n",
    "df[\"center_y\"] = ((df[\"boxheight\"] / 2 + df[\"boxy\"]) / df[\"imgheight\"])\n",
    "\n",
    "df[\"w\"] = df[\"boxwidth\"] / df[\"imgwidth\"]\n",
    "df[\"h\"] = df[\"boxheight\"] / df[\"imgheight\"]\n",
    "df.head()"
   ]
  },
  {
   "cell_type": "code",
   "execution_count": 61,
   "id": "1ff3f555-b08f-41f5-aa57-cb5804072101",
   "metadata": {},
   "outputs": [],
   "source": [
    "unique_names = df[\"name\"].unique()\n",
    "\n",
    "labels = dict()\n",
    "for num in range(len(unique_names)):\n",
    "    labels[unique_names[num]] = num\n",
    "\n",
    "df[\"id\"] = df[\"name\"].map(labels)"
   ]
  },
  {
   "cell_type": "code",
   "execution_count": 62,
   "id": "5e0aa0a4-41d7-4eab-888c-fc2437e9138e",
   "metadata": {},
   "outputs": [
    {
     "data": {
      "text/plain": [
       "2687"
      ]
     },
     "execution_count": 62,
     "metadata": {},
     "output_type": "execute_result"
    }
   ],
   "source": [
    "images = df['filename'].unique()\n",
    "len(images)"
   ]
  },
  {
   "cell_type": "code",
   "execution_count": 63,
   "id": "37c43283-4edc-4909-a44d-62044c43cf57",
   "metadata": {},
   "outputs": [
    {
     "data": {
      "text/html": [
       "<div>\n",
       "<style scoped>\n",
       "    .dataframe tbody tr th:only-of-type {\n",
       "        vertical-align: middle;\n",
       "    }\n",
       "\n",
       "    .dataframe tbody tr th {\n",
       "        vertical-align: top;\n",
       "    }\n",
       "\n",
       "    .dataframe thead th {\n",
       "        text-align: right;\n",
       "    }\n",
       "</style>\n",
       "<table border=\"1\" class=\"dataframe\">\n",
       "  <thead>\n",
       "    <tr style=\"text-align: right;\">\n",
       "      <th></th>\n",
       "      <th>filename</th>\n",
       "    </tr>\n",
       "  </thead>\n",
       "  <tbody>\n",
       "    <tr>\n",
       "      <th>0</th>\n",
       "      <td>a5bd67a6-9a0f-45b3-85a7-017d5f77fc66.png</td>\n",
       "    </tr>\n",
       "    <tr>\n",
       "      <th>1</th>\n",
       "      <td>cc3640a1-beb6-454b-9f86-02942a7c4006.png</td>\n",
       "    </tr>\n",
       "    <tr>\n",
       "      <th>2</th>\n",
       "      <td>2f3758f6-2fc1-4c18-b8af-02ccb66f8c36.png</td>\n",
       "    </tr>\n",
       "    <tr>\n",
       "      <th>3</th>\n",
       "      <td>02d00747-6b43-4bd4-8095-031c6fec4eb0.png</td>\n",
       "    </tr>\n",
       "    <tr>\n",
       "      <th>4</th>\n",
       "      <td>a1011047-2d88-4703-b11b-0334b1cc95e3.png</td>\n",
       "    </tr>\n",
       "  </tbody>\n",
       "</table>\n",
       "</div>"
      ],
      "text/plain": [
       "                                   filename\n",
       "0  a5bd67a6-9a0f-45b3-85a7-017d5f77fc66.png\n",
       "1  cc3640a1-beb6-454b-9f86-02942a7c4006.png\n",
       "2  2f3758f6-2fc1-4c18-b8af-02ccb66f8c36.png\n",
       "3  02d00747-6b43-4bd4-8095-031c6fec4eb0.png\n",
       "4  a1011047-2d88-4703-b11b-0334b1cc95e3.png"
      ]
     },
     "execution_count": 63,
     "metadata": {},
     "output_type": "execute_result"
    }
   ],
   "source": [
    "img_df = pd.DataFrame(images, columns=['filename'])\n",
    "img_df.head()"
   ]
  },
  {
   "cell_type": "code",
   "execution_count": 64,
   "id": "0b6176dd-a156-4f2f-9bbb-16e249468910",
   "metadata": {},
   "outputs": [],
   "source": [
    "img_train = tuple(img_df.sample(frac=0.8)['filename'])\n",
    "#shuffling data and picking 80% of images"
   ]
  },
  {
   "cell_type": "code",
   "execution_count": 65,
   "id": "f8929a90-2359-470a-bd97-326ffc3be364",
   "metadata": {
    "scrolled": true
   },
   "outputs": [
    {
     "data": {
      "text/plain": [
       "(2150, 537)"
      ]
     },
     "execution_count": 65,
     "metadata": {},
     "output_type": "execute_result"
    }
   ],
   "source": [
    "#picking all images that were not in the 80% train set (the other 20%)\n",
    "img_test = tuple(img_df[~img_df['filename'].isin(img_train)]['filename'])\n",
    "len(img_train), len(img_test) #length of each set"
   ]
  },
  {
   "cell_type": "code",
   "execution_count": 66,
   "id": "62626f34-1c69-46b8-8042-dae96915fdf0",
   "metadata": {},
   "outputs": [],
   "source": [
    "#making dataframes\n",
    "train_df = df.query(f'filename in {img_train}')\n",
    "test_df = df.query(f'filename in {img_test}')"
   ]
  },
  {
   "cell_type": "code",
   "execution_count": 67,
   "id": "68974d27-dd9b-4ac3-9846-e8f4f32e0c6c",
   "metadata": {},
   "outputs": [
    {
     "data": {
      "text/html": [
       "<div>\n",
       "<style scoped>\n",
       "    .dataframe tbody tr th:only-of-type {\n",
       "        vertical-align: middle;\n",
       "    }\n",
       "\n",
       "    .dataframe tbody tr th {\n",
       "        vertical-align: top;\n",
       "    }\n",
       "\n",
       "    .dataframe thead th {\n",
       "        text-align: right;\n",
       "    }\n",
       "</style>\n",
       "<table border=\"1\" class=\"dataframe\">\n",
       "  <thead>\n",
       "    <tr style=\"text-align: right;\">\n",
       "      <th></th>\n",
       "      <th>filename</th>\n",
       "      <th>imgwidth</th>\n",
       "      <th>imgheight</th>\n",
       "      <th>name</th>\n",
       "      <th>boxwidth</th>\n",
       "      <th>boxheight</th>\n",
       "      <th>boxx</th>\n",
       "      <th>boxy</th>\n",
       "      <th>center_x</th>\n",
       "      <th>center_y</th>\n",
       "      <th>w</th>\n",
       "      <th>h</th>\n",
       "      <th>id</th>\n",
       "    </tr>\n",
       "  </thead>\n",
       "  <tbody>\n",
       "    <tr>\n",
       "      <th>0</th>\n",
       "      <td>a5bd67a6-9a0f-45b3-85a7-017d5f77fc66.png</td>\n",
       "      <td>715</td>\n",
       "      <td>486</td>\n",
       "      <td>Actiniaria</td>\n",
       "      <td>76</td>\n",
       "      <td>83</td>\n",
       "      <td>638</td>\n",
       "      <td>400</td>\n",
       "      <td>0.945455</td>\n",
       "      <td>0.908436</td>\n",
       "      <td>0.106294</td>\n",
       "      <td>0.170782</td>\n",
       "      <td>0</td>\n",
       "    </tr>\n",
       "    <tr>\n",
       "      <th>1</th>\n",
       "      <td>a5bd67a6-9a0f-45b3-85a7-017d5f77fc66.png</td>\n",
       "      <td>715</td>\n",
       "      <td>486</td>\n",
       "      <td>Sebastolobus</td>\n",
       "      <td>95</td>\n",
       "      <td>53</td>\n",
       "      <td>522</td>\n",
       "      <td>108</td>\n",
       "      <td>0.796503</td>\n",
       "      <td>0.276749</td>\n",
       "      <td>0.132867</td>\n",
       "      <td>0.109053</td>\n",
       "      <td>1</td>\n",
       "    </tr>\n",
       "    <tr>\n",
       "      <th>2</th>\n",
       "      <td>a5bd67a6-9a0f-45b3-85a7-017d5f77fc66.png</td>\n",
       "      <td>715</td>\n",
       "      <td>486</td>\n",
       "      <td>Ophiuroidea</td>\n",
       "      <td>37</td>\n",
       "      <td>42</td>\n",
       "      <td>421</td>\n",
       "      <td>116</td>\n",
       "      <td>0.614685</td>\n",
       "      <td>0.281893</td>\n",
       "      <td>0.051748</td>\n",
       "      <td>0.086420</td>\n",
       "      <td>2</td>\n",
       "    </tr>\n",
       "    <tr>\n",
       "      <th>3</th>\n",
       "      <td>a5bd67a6-9a0f-45b3-85a7-017d5f77fc66.png</td>\n",
       "      <td>715</td>\n",
       "      <td>486</td>\n",
       "      <td>Psolus squamatus</td>\n",
       "      <td>113</td>\n",
       "      <td>85</td>\n",
       "      <td>391</td>\n",
       "      <td>378</td>\n",
       "      <td>0.625874</td>\n",
       "      <td>0.865226</td>\n",
       "      <td>0.158042</td>\n",
       "      <td>0.174897</td>\n",
       "      <td>3</td>\n",
       "    </tr>\n",
       "    <tr>\n",
       "      <th>4</th>\n",
       "      <td>a5bd67a6-9a0f-45b3-85a7-017d5f77fc66.png</td>\n",
       "      <td>715</td>\n",
       "      <td>486</td>\n",
       "      <td>Actiniaria</td>\n",
       "      <td>67</td>\n",
       "      <td>67</td>\n",
       "      <td>645</td>\n",
       "      <td>132</td>\n",
       "      <td>0.948951</td>\n",
       "      <td>0.340535</td>\n",
       "      <td>0.093706</td>\n",
       "      <td>0.137860</td>\n",
       "      <td>0</td>\n",
       "    </tr>\n",
       "  </tbody>\n",
       "</table>\n",
       "</div>"
      ],
      "text/plain": [
       "                                   filename  imgwidth  imgheight  \\\n",
       "0  a5bd67a6-9a0f-45b3-85a7-017d5f77fc66.png       715        486   \n",
       "1  a5bd67a6-9a0f-45b3-85a7-017d5f77fc66.png       715        486   \n",
       "2  a5bd67a6-9a0f-45b3-85a7-017d5f77fc66.png       715        486   \n",
       "3  a5bd67a6-9a0f-45b3-85a7-017d5f77fc66.png       715        486   \n",
       "4  a5bd67a6-9a0f-45b3-85a7-017d5f77fc66.png       715        486   \n",
       "\n",
       "               name  boxwidth  boxheight  boxx  boxy  center_x  center_y  \\\n",
       "0        Actiniaria        76         83   638   400  0.945455  0.908436   \n",
       "1      Sebastolobus        95         53   522   108  0.796503  0.276749   \n",
       "2       Ophiuroidea        37         42   421   116  0.614685  0.281893   \n",
       "3  Psolus squamatus       113         85   391   378  0.625874  0.865226   \n",
       "4        Actiniaria        67         67   645   132  0.948951  0.340535   \n",
       "\n",
       "          w         h  id  \n",
       "0  0.106294  0.170782   0  \n",
       "1  0.132867  0.109053   1  \n",
       "2  0.051748  0.086420   2  \n",
       "3  0.158042  0.174897   3  \n",
       "4  0.093706  0.137860   0  "
      ]
     },
     "execution_count": 67,
     "metadata": {},
     "output_type": "execute_result"
    }
   ],
   "source": [
    "train_df.head()\n",
    "test_df.head()"
   ]
  },
  {
   "cell_type": "code",
   "execution_count": 70,
   "id": "6619b13a-6e75-480a-befe-aac2b748bac7",
   "metadata": {},
   "outputs": [],
   "source": [
    "os.makedirs(\"images/train\", exist_ok=True)\n",
    "os.makedirs(\"images/test\", exist_ok=True)"
   ]
  },
  {
   "cell_type": "code",
   "execution_count": 71,
   "id": "ec7450c0-98c9-4978-8c70-a7fb7c8a66a6",
   "metadata": {},
   "outputs": [],
   "source": [
    "columns = [\"filename\", \"id\", \"center_x\", \"center_y\", \"w\", \"h\"]\n",
    "groupby_obj_train = train_df[columns].groupby(\"filename\")\n",
    "groupby_obj_test = test_df[columns].groupby(\"filename\")"
   ]
  },
  {
   "cell_type": "code",
   "execution_count": 83,
   "id": "dd8faa9b-cf5d-4ade-af9e-a7de1bd1a0a8",
   "metadata": {},
   "outputs": [],
   "source": [
    "def save_data(filename, folder_path, group_obj):\n",
    "    source = os.path.join(\"images\", filename)\n",
    "    destination = os.path.join(folder_path, filename)\n",
    "    move(source, destination)\n",
    "\n",
    "    text_filename = os.path.join(folder_path,os.path.splitext(filename)[0] + \".txt\")\n",
    "    group_obj.get_group(filename).set_index(\"filename\").to_csv(text_filename,sep=' ',index=False,header=False) "
   ]
  },
  {
   "cell_type": "code",
   "execution_count": 78,
   "id": "62589c29-4288-47b2-b903-6307e51db8eb",
   "metadata": {},
   "outputs": [
    {
     "data": {
      "text/plain": [
       "0       None\n",
       "1       None\n",
       "2       None\n",
       "3       None\n",
       "4       None\n",
       "        ... \n",
       "2145    None\n",
       "2146    None\n",
       "2147    None\n",
       "2148    None\n",
       "2149    None\n",
       "Length: 2150, dtype: object"
      ]
     },
     "execution_count": 78,
     "metadata": {},
     "output_type": "execute_result"
    }
   ],
   "source": [
    "filename_series_train = pd.Series(groupby_obj_train.groups.keys())\n",
    "filename_series_train.apply(save_data,args=(\"images/train\",groupby_obj_train))"
   ]
  },
  {
   "cell_type": "code",
   "execution_count": 106,
   "id": "ccdf18b4-61a9-4da2-a3d7-a948ae6418fc",
   "metadata": {},
   "outputs": [
    {
     "ename": "FileNotFoundError",
     "evalue": "[Errno 2] No such file or directory: 'images/0075e1a9-e8f1-4e69-8d2b-d27f87e0e0b3.png'",
     "output_type": "error",
     "traceback": [
      "\u001b[0;31m---------------------------------------------------------------------------\u001b[0m",
      "\u001b[0;31mFileNotFoundError\u001b[0m                         Traceback (most recent call last)",
      "File \u001b[0;32m/Library/Frameworks/Python.framework/Versions/3.12/lib/python3.12/shutil.py:862\u001b[0m, in \u001b[0;36mmove\u001b[0;34m(src, dst, copy_function)\u001b[0m\n\u001b[1;32m    861\u001b[0m \u001b[38;5;28;01mtry\u001b[39;00m:\n\u001b[0;32m--> 862\u001b[0m     \u001b[43mos\u001b[49m\u001b[38;5;241;43m.\u001b[39;49m\u001b[43mrename\u001b[49m\u001b[43m(\u001b[49m\u001b[43msrc\u001b[49m\u001b[43m,\u001b[49m\u001b[43m \u001b[49m\u001b[43mreal_dst\u001b[49m\u001b[43m)\u001b[49m\n\u001b[1;32m    863\u001b[0m \u001b[38;5;28;01mexcept\u001b[39;00m \u001b[38;5;167;01mOSError\u001b[39;00m:\n",
      "\u001b[0;31mFileNotFoundError\u001b[0m: [Errno 2] No such file or directory: 'images/0075e1a9-e8f1-4e69-8d2b-d27f87e0e0b3.png' -> 'images/test/0075e1a9-e8f1-4e69-8d2b-d27f87e0e0b3.png'",
      "\nDuring handling of the above exception, another exception occurred:\n",
      "\u001b[0;31mFileNotFoundError\u001b[0m                         Traceback (most recent call last)",
      "Cell \u001b[0;32mIn[106], line 2\u001b[0m\n\u001b[1;32m      1\u001b[0m filename_series_test \u001b[38;5;241m=\u001b[39m pd\u001b[38;5;241m.\u001b[39mSeries(groupby_obj_test\u001b[38;5;241m.\u001b[39mgroups\u001b[38;5;241m.\u001b[39mkeys())\n\u001b[0;32m----> 2\u001b[0m \u001b[43mfilename_series_test\u001b[49m\u001b[38;5;241;43m.\u001b[39;49m\u001b[43mapply\u001b[49m\u001b[43m(\u001b[49m\u001b[43msave_data\u001b[49m\u001b[43m,\u001b[49m\u001b[43margs\u001b[49m\u001b[38;5;241;43m=\u001b[39;49m\u001b[43m(\u001b[49m\u001b[38;5;124;43m\"\u001b[39;49m\u001b[38;5;124;43mimages/test\u001b[39;49m\u001b[38;5;124;43m\"\u001b[39;49m\u001b[43m,\u001b[49m\u001b[43mgroupby_obj_test\u001b[49m\u001b[43m)\u001b[49m\u001b[43m)\u001b[49m\n",
      "File \u001b[0;32m~/Library/Python/3.12/lib/python/site-packages/pandas/core/series.py:4924\u001b[0m, in \u001b[0;36mSeries.apply\u001b[0;34m(self, func, convert_dtype, args, by_row, **kwargs)\u001b[0m\n\u001b[1;32m   4789\u001b[0m \u001b[38;5;28;01mdef\u001b[39;00m \u001b[38;5;21mapply\u001b[39m(\n\u001b[1;32m   4790\u001b[0m     \u001b[38;5;28mself\u001b[39m,\n\u001b[1;32m   4791\u001b[0m     func: AggFuncType,\n\u001b[0;32m   (...)\u001b[0m\n\u001b[1;32m   4796\u001b[0m     \u001b[38;5;241m*\u001b[39m\u001b[38;5;241m*\u001b[39mkwargs,\n\u001b[1;32m   4797\u001b[0m ) \u001b[38;5;241m-\u001b[39m\u001b[38;5;241m>\u001b[39m DataFrame \u001b[38;5;241m|\u001b[39m Series:\n\u001b[1;32m   4798\u001b[0m \u001b[38;5;250m    \u001b[39m\u001b[38;5;124;03m\"\"\"\u001b[39;00m\n\u001b[1;32m   4799\u001b[0m \u001b[38;5;124;03m    Invoke function on values of Series.\u001b[39;00m\n\u001b[1;32m   4800\u001b[0m \n\u001b[0;32m   (...)\u001b[0m\n\u001b[1;32m   4915\u001b[0m \u001b[38;5;124;03m    dtype: float64\u001b[39;00m\n\u001b[1;32m   4916\u001b[0m \u001b[38;5;124;03m    \"\"\"\u001b[39;00m\n\u001b[1;32m   4917\u001b[0m     \u001b[38;5;28;01mreturn\u001b[39;00m \u001b[43mSeriesApply\u001b[49m\u001b[43m(\u001b[49m\n\u001b[1;32m   4918\u001b[0m \u001b[43m        \u001b[49m\u001b[38;5;28;43mself\u001b[39;49m\u001b[43m,\u001b[49m\n\u001b[1;32m   4919\u001b[0m \u001b[43m        \u001b[49m\u001b[43mfunc\u001b[49m\u001b[43m,\u001b[49m\n\u001b[1;32m   4920\u001b[0m \u001b[43m        \u001b[49m\u001b[43mconvert_dtype\u001b[49m\u001b[38;5;241;43m=\u001b[39;49m\u001b[43mconvert_dtype\u001b[49m\u001b[43m,\u001b[49m\n\u001b[1;32m   4921\u001b[0m \u001b[43m        \u001b[49m\u001b[43mby_row\u001b[49m\u001b[38;5;241;43m=\u001b[39;49m\u001b[43mby_row\u001b[49m\u001b[43m,\u001b[49m\n\u001b[1;32m   4922\u001b[0m \u001b[43m        \u001b[49m\u001b[43margs\u001b[49m\u001b[38;5;241;43m=\u001b[39;49m\u001b[43margs\u001b[49m\u001b[43m,\u001b[49m\n\u001b[1;32m   4923\u001b[0m \u001b[43m        \u001b[49m\u001b[43mkwargs\u001b[49m\u001b[38;5;241;43m=\u001b[39;49m\u001b[43mkwargs\u001b[49m\u001b[43m,\u001b[49m\n\u001b[0;32m-> 4924\u001b[0m \u001b[43m    \u001b[49m\u001b[43m)\u001b[49m\u001b[38;5;241;43m.\u001b[39;49m\u001b[43mapply\u001b[49m\u001b[43m(\u001b[49m\u001b[43m)\u001b[49m\n",
      "File \u001b[0;32m~/Library/Python/3.12/lib/python/site-packages/pandas/core/apply.py:1427\u001b[0m, in \u001b[0;36mSeriesApply.apply\u001b[0;34m(self)\u001b[0m\n\u001b[1;32m   1424\u001b[0m     \u001b[38;5;28;01mreturn\u001b[39;00m \u001b[38;5;28mself\u001b[39m\u001b[38;5;241m.\u001b[39mapply_compat()\n\u001b[1;32m   1426\u001b[0m \u001b[38;5;66;03m# self.func is Callable\u001b[39;00m\n\u001b[0;32m-> 1427\u001b[0m \u001b[38;5;28;01mreturn\u001b[39;00m \u001b[38;5;28;43mself\u001b[39;49m\u001b[38;5;241;43m.\u001b[39;49m\u001b[43mapply_standard\u001b[49m\u001b[43m(\u001b[49m\u001b[43m)\u001b[49m\n",
      "File \u001b[0;32m~/Library/Python/3.12/lib/python/site-packages/pandas/core/apply.py:1507\u001b[0m, in \u001b[0;36mSeriesApply.apply_standard\u001b[0;34m(self)\u001b[0m\n\u001b[1;32m   1501\u001b[0m \u001b[38;5;66;03m# row-wise access\u001b[39;00m\n\u001b[1;32m   1502\u001b[0m \u001b[38;5;66;03m# apply doesn't have a `na_action` keyword and for backward compat reasons\u001b[39;00m\n\u001b[1;32m   1503\u001b[0m \u001b[38;5;66;03m# we need to give `na_action=\"ignore\"` for categorical data.\u001b[39;00m\n\u001b[1;32m   1504\u001b[0m \u001b[38;5;66;03m# TODO: remove the `na_action=\"ignore\"` when that default has been changed in\u001b[39;00m\n\u001b[1;32m   1505\u001b[0m \u001b[38;5;66;03m#  Categorical (GH51645).\u001b[39;00m\n\u001b[1;32m   1506\u001b[0m action \u001b[38;5;241m=\u001b[39m \u001b[38;5;124m\"\u001b[39m\u001b[38;5;124mignore\u001b[39m\u001b[38;5;124m\"\u001b[39m \u001b[38;5;28;01mif\u001b[39;00m \u001b[38;5;28misinstance\u001b[39m(obj\u001b[38;5;241m.\u001b[39mdtype, CategoricalDtype) \u001b[38;5;28;01melse\u001b[39;00m \u001b[38;5;28;01mNone\u001b[39;00m\n\u001b[0;32m-> 1507\u001b[0m mapped \u001b[38;5;241m=\u001b[39m \u001b[43mobj\u001b[49m\u001b[38;5;241;43m.\u001b[39;49m\u001b[43m_map_values\u001b[49m\u001b[43m(\u001b[49m\n\u001b[1;32m   1508\u001b[0m \u001b[43m    \u001b[49m\u001b[43mmapper\u001b[49m\u001b[38;5;241;43m=\u001b[39;49m\u001b[43mcurried\u001b[49m\u001b[43m,\u001b[49m\u001b[43m \u001b[49m\u001b[43mna_action\u001b[49m\u001b[38;5;241;43m=\u001b[39;49m\u001b[43maction\u001b[49m\u001b[43m,\u001b[49m\u001b[43m \u001b[49m\u001b[43mconvert\u001b[49m\u001b[38;5;241;43m=\u001b[39;49m\u001b[38;5;28;43mself\u001b[39;49m\u001b[38;5;241;43m.\u001b[39;49m\u001b[43mconvert_dtype\u001b[49m\n\u001b[1;32m   1509\u001b[0m \u001b[43m\u001b[49m\u001b[43m)\u001b[49m\n\u001b[1;32m   1511\u001b[0m \u001b[38;5;28;01mif\u001b[39;00m \u001b[38;5;28mlen\u001b[39m(mapped) \u001b[38;5;129;01mand\u001b[39;00m \u001b[38;5;28misinstance\u001b[39m(mapped[\u001b[38;5;241m0\u001b[39m], ABCSeries):\n\u001b[1;32m   1512\u001b[0m     \u001b[38;5;66;03m# GH#43986 Need to do list(mapped) in order to get treated as nested\u001b[39;00m\n\u001b[1;32m   1513\u001b[0m     \u001b[38;5;66;03m#  See also GH#25959 regarding EA support\u001b[39;00m\n\u001b[1;32m   1514\u001b[0m     \u001b[38;5;28;01mreturn\u001b[39;00m obj\u001b[38;5;241m.\u001b[39m_constructor_expanddim(\u001b[38;5;28mlist\u001b[39m(mapped), index\u001b[38;5;241m=\u001b[39mobj\u001b[38;5;241m.\u001b[39mindex)\n",
      "File \u001b[0;32m~/Library/Python/3.12/lib/python/site-packages/pandas/core/base.py:921\u001b[0m, in \u001b[0;36mIndexOpsMixin._map_values\u001b[0;34m(self, mapper, na_action, convert)\u001b[0m\n\u001b[1;32m    918\u001b[0m \u001b[38;5;28;01mif\u001b[39;00m \u001b[38;5;28misinstance\u001b[39m(arr, ExtensionArray):\n\u001b[1;32m    919\u001b[0m     \u001b[38;5;28;01mreturn\u001b[39;00m arr\u001b[38;5;241m.\u001b[39mmap(mapper, na_action\u001b[38;5;241m=\u001b[39mna_action)\n\u001b[0;32m--> 921\u001b[0m \u001b[38;5;28;01mreturn\u001b[39;00m \u001b[43malgorithms\u001b[49m\u001b[38;5;241;43m.\u001b[39;49m\u001b[43mmap_array\u001b[49m\u001b[43m(\u001b[49m\u001b[43marr\u001b[49m\u001b[43m,\u001b[49m\u001b[43m \u001b[49m\u001b[43mmapper\u001b[49m\u001b[43m,\u001b[49m\u001b[43m \u001b[49m\u001b[43mna_action\u001b[49m\u001b[38;5;241;43m=\u001b[39;49m\u001b[43mna_action\u001b[49m\u001b[43m,\u001b[49m\u001b[43m \u001b[49m\u001b[43mconvert\u001b[49m\u001b[38;5;241;43m=\u001b[39;49m\u001b[43mconvert\u001b[49m\u001b[43m)\u001b[49m\n",
      "File \u001b[0;32m~/Library/Python/3.12/lib/python/site-packages/pandas/core/algorithms.py:1743\u001b[0m, in \u001b[0;36mmap_array\u001b[0;34m(arr, mapper, na_action, convert)\u001b[0m\n\u001b[1;32m   1741\u001b[0m values \u001b[38;5;241m=\u001b[39m arr\u001b[38;5;241m.\u001b[39mastype(\u001b[38;5;28mobject\u001b[39m, copy\u001b[38;5;241m=\u001b[39m\u001b[38;5;28;01mFalse\u001b[39;00m)\n\u001b[1;32m   1742\u001b[0m \u001b[38;5;28;01mif\u001b[39;00m na_action \u001b[38;5;129;01mis\u001b[39;00m \u001b[38;5;28;01mNone\u001b[39;00m:\n\u001b[0;32m-> 1743\u001b[0m     \u001b[38;5;28;01mreturn\u001b[39;00m \u001b[43mlib\u001b[49m\u001b[38;5;241;43m.\u001b[39;49m\u001b[43mmap_infer\u001b[49m\u001b[43m(\u001b[49m\u001b[43mvalues\u001b[49m\u001b[43m,\u001b[49m\u001b[43m \u001b[49m\u001b[43mmapper\u001b[49m\u001b[43m,\u001b[49m\u001b[43m \u001b[49m\u001b[43mconvert\u001b[49m\u001b[38;5;241;43m=\u001b[39;49m\u001b[43mconvert\u001b[49m\u001b[43m)\u001b[49m\n\u001b[1;32m   1744\u001b[0m \u001b[38;5;28;01melse\u001b[39;00m:\n\u001b[1;32m   1745\u001b[0m     \u001b[38;5;28;01mreturn\u001b[39;00m lib\u001b[38;5;241m.\u001b[39mmap_infer_mask(\n\u001b[1;32m   1746\u001b[0m         values, mapper, mask\u001b[38;5;241m=\u001b[39misna(values)\u001b[38;5;241m.\u001b[39mview(np\u001b[38;5;241m.\u001b[39muint8), convert\u001b[38;5;241m=\u001b[39mconvert\n\u001b[1;32m   1747\u001b[0m     )\n",
      "File \u001b[0;32mlib.pyx:2972\u001b[0m, in \u001b[0;36mpandas._libs.lib.map_infer\u001b[0;34m()\u001b[0m\n",
      "File \u001b[0;32m~/Library/Python/3.12/lib/python/site-packages/pandas/core/apply.py:1496\u001b[0m, in \u001b[0;36mSeriesApply.apply_standard.<locals>.curried\u001b[0;34m(x)\u001b[0m\n\u001b[1;32m   1495\u001b[0m \u001b[38;5;28;01mdef\u001b[39;00m \u001b[38;5;21mcurried\u001b[39m(x):\n\u001b[0;32m-> 1496\u001b[0m     \u001b[38;5;28;01mreturn\u001b[39;00m \u001b[43mfunc\u001b[49m\u001b[43m(\u001b[49m\u001b[43mx\u001b[49m\u001b[43m,\u001b[49m\u001b[43m \u001b[49m\u001b[38;5;241;43m*\u001b[39;49m\u001b[38;5;28;43mself\u001b[39;49m\u001b[38;5;241;43m.\u001b[39;49m\u001b[43margs\u001b[49m\u001b[43m,\u001b[49m\u001b[43m \u001b[49m\u001b[38;5;241;43m*\u001b[39;49m\u001b[38;5;241;43m*\u001b[39;49m\u001b[38;5;28;43mself\u001b[39;49m\u001b[38;5;241;43m.\u001b[39;49m\u001b[43mkwargs\u001b[49m\u001b[43m)\u001b[49m\n",
      "Cell \u001b[0;32mIn[83], line 4\u001b[0m, in \u001b[0;36msave_data\u001b[0;34m(filename, folder_path, group_obj)\u001b[0m\n\u001b[1;32m      2\u001b[0m source \u001b[38;5;241m=\u001b[39m os\u001b[38;5;241m.\u001b[39mpath\u001b[38;5;241m.\u001b[39mjoin(\u001b[38;5;124m\"\u001b[39m\u001b[38;5;124mimages\u001b[39m\u001b[38;5;124m\"\u001b[39m, filename)\n\u001b[1;32m      3\u001b[0m destination \u001b[38;5;241m=\u001b[39m os\u001b[38;5;241m.\u001b[39mpath\u001b[38;5;241m.\u001b[39mjoin(folder_path, filename)\n\u001b[0;32m----> 4\u001b[0m \u001b[43mmove\u001b[49m\u001b[43m(\u001b[49m\u001b[43msource\u001b[49m\u001b[43m,\u001b[49m\u001b[43m \u001b[49m\u001b[43mdestination\u001b[49m\u001b[43m)\u001b[49m\n\u001b[1;32m      6\u001b[0m text_filename \u001b[38;5;241m=\u001b[39m os\u001b[38;5;241m.\u001b[39mpath\u001b[38;5;241m.\u001b[39mjoin(folder_path,os\u001b[38;5;241m.\u001b[39mpath\u001b[38;5;241m.\u001b[39msplitext(filename)[\u001b[38;5;241m0\u001b[39m] \u001b[38;5;241m+\u001b[39m \u001b[38;5;124m\"\u001b[39m\u001b[38;5;124m.txt\u001b[39m\u001b[38;5;124m\"\u001b[39m)\n\u001b[1;32m      7\u001b[0m group_obj\u001b[38;5;241m.\u001b[39mget_group(filename)\u001b[38;5;241m.\u001b[39mset_index(\u001b[38;5;124m\"\u001b[39m\u001b[38;5;124mfilename\u001b[39m\u001b[38;5;124m\"\u001b[39m)\u001b[38;5;241m.\u001b[39mto_csv(text_filename,sep\u001b[38;5;241m=\u001b[39m\u001b[38;5;124m'\u001b[39m\u001b[38;5;124m \u001b[39m\u001b[38;5;124m'\u001b[39m,index\u001b[38;5;241m=\u001b[39m\u001b[38;5;28;01mFalse\u001b[39;00m,header\u001b[38;5;241m=\u001b[39m\u001b[38;5;28;01mFalse\u001b[39;00m)\n",
      "File \u001b[0;32m/Library/Frameworks/Python.framework/Versions/3.12/lib/python3.12/shutil.py:882\u001b[0m, in \u001b[0;36mmove\u001b[0;34m(src, dst, copy_function)\u001b[0m\n\u001b[1;32m    880\u001b[0m         rmtree(src)\n\u001b[1;32m    881\u001b[0m     \u001b[38;5;28;01melse\u001b[39;00m:\n\u001b[0;32m--> 882\u001b[0m         \u001b[43mcopy_function\u001b[49m\u001b[43m(\u001b[49m\u001b[43msrc\u001b[49m\u001b[43m,\u001b[49m\u001b[43m \u001b[49m\u001b[43mreal_dst\u001b[49m\u001b[43m)\u001b[49m\n\u001b[1;32m    883\u001b[0m         os\u001b[38;5;241m.\u001b[39munlink(src)\n\u001b[1;32m    884\u001b[0m \u001b[38;5;28;01mreturn\u001b[39;00m real_dst\n",
      "File \u001b[0;32m/Library/Frameworks/Python.framework/Versions/3.12/lib/python3.12/shutil.py:463\u001b[0m, in \u001b[0;36mcopy2\u001b[0;34m(src, dst, follow_symlinks)\u001b[0m\n\u001b[1;32m    460\u001b[0m         \u001b[38;5;28;01melse\u001b[39;00m:\n\u001b[1;32m    461\u001b[0m             \u001b[38;5;28;01mraise\u001b[39;00m\n\u001b[0;32m--> 463\u001b[0m \u001b[43mcopyfile\u001b[49m\u001b[43m(\u001b[49m\u001b[43msrc\u001b[49m\u001b[43m,\u001b[49m\u001b[43m \u001b[49m\u001b[43mdst\u001b[49m\u001b[43m,\u001b[49m\u001b[43m \u001b[49m\u001b[43mfollow_symlinks\u001b[49m\u001b[38;5;241;43m=\u001b[39;49m\u001b[43mfollow_symlinks\u001b[49m\u001b[43m)\u001b[49m\n\u001b[1;32m    464\u001b[0m copystat(src, dst, follow_symlinks\u001b[38;5;241m=\u001b[39mfollow_symlinks)\n\u001b[1;32m    465\u001b[0m \u001b[38;5;28;01mreturn\u001b[39;00m dst\n",
      "File \u001b[0;32m/Library/Frameworks/Python.framework/Versions/3.12/lib/python3.12/shutil.py:260\u001b[0m, in \u001b[0;36mcopyfile\u001b[0;34m(src, dst, follow_symlinks)\u001b[0m\n\u001b[1;32m    258\u001b[0m     os\u001b[38;5;241m.\u001b[39msymlink(os\u001b[38;5;241m.\u001b[39mreadlink(src), dst)\n\u001b[1;32m    259\u001b[0m \u001b[38;5;28;01melse\u001b[39;00m:\n\u001b[0;32m--> 260\u001b[0m     \u001b[38;5;28;01mwith\u001b[39;00m \u001b[38;5;28;43mopen\u001b[39;49m\u001b[43m(\u001b[49m\u001b[43msrc\u001b[49m\u001b[43m,\u001b[49m\u001b[43m \u001b[49m\u001b[38;5;124;43m'\u001b[39;49m\u001b[38;5;124;43mrb\u001b[39;49m\u001b[38;5;124;43m'\u001b[39;49m\u001b[43m)\u001b[49m \u001b[38;5;28;01mas\u001b[39;00m fsrc:\n\u001b[1;32m    261\u001b[0m         \u001b[38;5;28;01mtry\u001b[39;00m:\n\u001b[1;32m    262\u001b[0m             \u001b[38;5;28;01mwith\u001b[39;00m \u001b[38;5;28mopen\u001b[39m(dst, \u001b[38;5;124m'\u001b[39m\u001b[38;5;124mwb\u001b[39m\u001b[38;5;124m'\u001b[39m) \u001b[38;5;28;01mas\u001b[39;00m fdst:\n\u001b[1;32m    263\u001b[0m                 \u001b[38;5;66;03m# macOS\u001b[39;00m\n",
      "\u001b[0;31mFileNotFoundError\u001b[0m: [Errno 2] No such file or directory: 'images/0075e1a9-e8f1-4e69-8d2b-d27f87e0e0b3.png'"
     ]
    }
   ],
   "source": [
    "filename_series_test = pd.Series(groupby_obj_test.groups.keys())\n",
    "filename_series_test.apply(save_data,args=(\"images/test\",groupby_obj_test))"
   ]
  },
  {
   "cell_type": "code",
   "execution_count": 109,
   "id": "b22a0145-b7ad-4e13-abe6-43d9b150d4d3",
   "metadata": {},
   "outputs": [],
   "source": [
    "data = {\n",
    "    'train': 'images/train',\n",
    "    'val': 'images/test',\n",
    "    'nc': len(labels), \n",
    "    'names': list(labels.keys()) \n",
    "}\n",
    "\n",
    "with open('data.yaml', 'w') as file:\n",
    "    yaml.dump(data, file, default_flow_style=False, sort_keys=False)\n"
   ]
  },
  {
   "cell_type": "code",
   "execution_count": null,
   "id": "b24d6bc9-9b3f-4b12-8b5b-84ca0ac8ec0b",
   "metadata": {},
   "outputs": [],
   "source": []
  }
 ],
 "metadata": {
  "kernelspec": {
   "display_name": "Python 3 (ipykernel)",
   "language": "python",
   "name": "python3"
  },
  "language_info": {
   "codemirror_mode": {
    "name": "ipython",
    "version": 3
   },
   "file_extension": ".py",
   "mimetype": "text/x-python",
   "name": "python",
   "nbconvert_exporter": "python",
   "pygments_lexer": "ipython3",
   "version": "3.12.0"
  }
 },
 "nbformat": 4,
 "nbformat_minor": 5
}
