{
 "cells": [
  {
   "cell_type": "code",
   "execution_count": 1,
   "id": "7dfabca3-94ff-4fe3-8afa-3addf81489af",
   "metadata": {},
   "outputs": [],
   "source": [
    "import os\n",
    "from glob import glob\n",
    "import pandas as pd\n",
    "from functools import reduce\n",
    "import json\n",
    "from shutil import move\n",
    "import yaml"
   ]
  },
  {
   "cell_type": "code",
   "execution_count": 2,
   "id": "073da631-db0f-490d-8aef-4439df159609",
   "metadata": {},
   "outputs": [],
   "source": [
    "def extract_json(filename):\n",
    "    json_file_path = filename\n",
    "    parser = []\n",
    "    \n",
    "    with open(json_file_path, \"r\") as file:\n",
    "        data = json.load(file)\n",
    "\n",
    "    for file in data:\n",
    "        filename = os.path.join(file[\"uuid\"] + \".png\")\n",
    "\n",
    "        imgwidth = file[\"width\"]\n",
    "        imgheight = file[\"height\"]\n",
    "        \n",
    "        for box in file[\"boundingBoxes\"]:\n",
    "            name = box[\"concept\"]\n",
    "    \n",
    "            boxx = box[\"x\"]\n",
    "            boxy = box[\"y\"]\n",
    "            boxwidth = box[\"width\"]\n",
    "            boxheight = box[\"height\"]\n",
    "            \n",
    "            parser.append([filename, imgwidth, imgheight, name, boxwidth, boxheight, boxx, boxy])\n",
    "\n",
    "    return parser"
   ]
  },
  {
   "cell_type": "code",
   "execution_count": 66,
   "id": "04f0ce72-fdf7-4808-9cc7-3c1ea41aceed",
   "metadata": {},
   "outputs": [],
   "source": [
    "df = pd.DataFrame(extract_json(\"data.json\"), columns = [\"filename\", \"imgwidth\", \"imgheight\", \"name\", \"boxwidth\", \"boxheight\", \"boxx\", \"boxy\"])"
   ]
  },
  {
   "cell_type": "code",
   "execution_count": 67,
   "id": "a51fe1b4-6fca-4954-8350-8d6790e544bb",
   "metadata": {},
   "outputs": [
    {
     "name": "stdout",
     "output_type": "stream",
     "text": [
      "<class 'pandas.core.frame.DataFrame'>\n",
      "RangeIndex: 20626 entries, 0 to 20625\n",
      "Data columns (total 8 columns):\n",
      " #   Column     Non-Null Count  Dtype \n",
      "---  ------     --------------  ----- \n",
      " 0   filename   20626 non-null  object\n",
      " 1   imgwidth   20626 non-null  int64 \n",
      " 2   imgheight  20626 non-null  int64 \n",
      " 3   name       20626 non-null  object\n",
      " 4   boxwidth   20626 non-null  int64 \n",
      " 5   boxheight  20626 non-null  int64 \n",
      " 6   boxx       20626 non-null  int64 \n",
      " 7   boxy       20626 non-null  int64 \n",
      "dtypes: int64(6), object(2)\n",
      "memory usage: 1.3+ MB\n"
     ]
    },
    {
     "data": {
      "text/plain": [
       "name\n",
       "Ophiuroidea                    10983\n",
       "Crinoidea                        710\n",
       "Strongylocentrotus fragilis      471\n",
       "Holothuroidea                    412\n",
       "Scotoplanes                      406\n",
       "                               ...  \n",
       "Apristurus kampae                  1\n",
       "Iosactis                           1\n",
       "eggcase                            1\n",
       "Thenea                             1\n",
       "Brisingidae                        1\n",
       "Name: count, Length: 442, dtype: int64"
      ]
     },
     "execution_count": 67,
     "metadata": {},
     "output_type": "execute_result"
    }
   ],
   "source": [
    "df.info()\n",
    "df[\"name\"].value_counts()"
   ]
  },
  {
   "cell_type": "code",
   "execution_count": 68,
   "id": "cfb2354b-8b66-4aef-8dbe-1c13b4fa68cf",
   "metadata": {},
   "outputs": [
    {
     "data": {
      "text/html": [
       "<div>\n",
       "<style scoped>\n",
       "    .dataframe tbody tr th:only-of-type {\n",
       "        vertical-align: middle;\n",
       "    }\n",
       "\n",
       "    .dataframe tbody tr th {\n",
       "        vertical-align: top;\n",
       "    }\n",
       "\n",
       "    .dataframe thead th {\n",
       "        text-align: right;\n",
       "    }\n",
       "</style>\n",
       "<table border=\"1\" class=\"dataframe\">\n",
       "  <thead>\n",
       "    <tr style=\"text-align: right;\">\n",
       "      <th></th>\n",
       "      <th>filename</th>\n",
       "      <th>imgwidth</th>\n",
       "      <th>imgheight</th>\n",
       "      <th>name</th>\n",
       "      <th>boxwidth</th>\n",
       "      <th>boxheight</th>\n",
       "      <th>boxx</th>\n",
       "      <th>boxy</th>\n",
       "      <th>center_x</th>\n",
       "      <th>center_y</th>\n",
       "      <th>w</th>\n",
       "      <th>h</th>\n",
       "    </tr>\n",
       "  </thead>\n",
       "  <tbody>\n",
       "    <tr>\n",
       "      <th>0</th>\n",
       "      <td>a5bd67a6-9a0f-45b3-85a7-017d5f77fc66.png</td>\n",
       "      <td>715</td>\n",
       "      <td>486</td>\n",
       "      <td>Actiniaria</td>\n",
       "      <td>76</td>\n",
       "      <td>83</td>\n",
       "      <td>638</td>\n",
       "      <td>400</td>\n",
       "      <td>0.945455</td>\n",
       "      <td>0.908436</td>\n",
       "      <td>0.106294</td>\n",
       "      <td>0.170782</td>\n",
       "    </tr>\n",
       "    <tr>\n",
       "      <th>1</th>\n",
       "      <td>a5bd67a6-9a0f-45b3-85a7-017d5f77fc66.png</td>\n",
       "      <td>715</td>\n",
       "      <td>486</td>\n",
       "      <td>Sebastolobus</td>\n",
       "      <td>95</td>\n",
       "      <td>53</td>\n",
       "      <td>522</td>\n",
       "      <td>108</td>\n",
       "      <td>0.796503</td>\n",
       "      <td>0.276749</td>\n",
       "      <td>0.132867</td>\n",
       "      <td>0.109053</td>\n",
       "    </tr>\n",
       "    <tr>\n",
       "      <th>2</th>\n",
       "      <td>a5bd67a6-9a0f-45b3-85a7-017d5f77fc66.png</td>\n",
       "      <td>715</td>\n",
       "      <td>486</td>\n",
       "      <td>Ophiuroidea</td>\n",
       "      <td>37</td>\n",
       "      <td>42</td>\n",
       "      <td>421</td>\n",
       "      <td>116</td>\n",
       "      <td>0.614685</td>\n",
       "      <td>0.281893</td>\n",
       "      <td>0.051748</td>\n",
       "      <td>0.086420</td>\n",
       "    </tr>\n",
       "    <tr>\n",
       "      <th>3</th>\n",
       "      <td>a5bd67a6-9a0f-45b3-85a7-017d5f77fc66.png</td>\n",
       "      <td>715</td>\n",
       "      <td>486</td>\n",
       "      <td>Psolus squamatus</td>\n",
       "      <td>113</td>\n",
       "      <td>85</td>\n",
       "      <td>391</td>\n",
       "      <td>378</td>\n",
       "      <td>0.625874</td>\n",
       "      <td>0.865226</td>\n",
       "      <td>0.158042</td>\n",
       "      <td>0.174897</td>\n",
       "    </tr>\n",
       "    <tr>\n",
       "      <th>4</th>\n",
       "      <td>a5bd67a6-9a0f-45b3-85a7-017d5f77fc66.png</td>\n",
       "      <td>715</td>\n",
       "      <td>486</td>\n",
       "      <td>Actiniaria</td>\n",
       "      <td>67</td>\n",
       "      <td>67</td>\n",
       "      <td>645</td>\n",
       "      <td>132</td>\n",
       "      <td>0.948951</td>\n",
       "      <td>0.340535</td>\n",
       "      <td>0.093706</td>\n",
       "      <td>0.137860</td>\n",
       "    </tr>\n",
       "  </tbody>\n",
       "</table>\n",
       "</div>"
      ],
      "text/plain": [
       "                                   filename  imgwidth  imgheight  \\\n",
       "0  a5bd67a6-9a0f-45b3-85a7-017d5f77fc66.png       715        486   \n",
       "1  a5bd67a6-9a0f-45b3-85a7-017d5f77fc66.png       715        486   \n",
       "2  a5bd67a6-9a0f-45b3-85a7-017d5f77fc66.png       715        486   \n",
       "3  a5bd67a6-9a0f-45b3-85a7-017d5f77fc66.png       715        486   \n",
       "4  a5bd67a6-9a0f-45b3-85a7-017d5f77fc66.png       715        486   \n",
       "\n",
       "               name  boxwidth  boxheight  boxx  boxy  center_x  center_y  \\\n",
       "0        Actiniaria        76         83   638   400  0.945455  0.908436   \n",
       "1      Sebastolobus        95         53   522   108  0.796503  0.276749   \n",
       "2       Ophiuroidea        37         42   421   116  0.614685  0.281893   \n",
       "3  Psolus squamatus       113         85   391   378  0.625874  0.865226   \n",
       "4        Actiniaria        67         67   645   132  0.948951  0.340535   \n",
       "\n",
       "          w         h  \n",
       "0  0.106294  0.170782  \n",
       "1  0.132867  0.109053  \n",
       "2  0.051748  0.086420  \n",
       "3  0.158042  0.174897  \n",
       "4  0.093706  0.137860  "
      ]
     },
     "execution_count": 68,
     "metadata": {},
     "output_type": "execute_result"
    }
   ],
   "source": [
    "columns = [\"filename\", \"imgwidth\", \"imgheight\", \"name\", \"boxwidth\", \"boxheight\", \"boxx\", \"boxy\"]\n",
    "\n",
    "df[\"center_x\"] = ((df[\"boxwidth\"] / 2 + df[\"boxx\"]) / df[\"imgwidth\"])\n",
    "df[\"center_y\"] = ((df[\"boxheight\"] / 2 + df[\"boxy\"]) / df[\"imgheight\"])\n",
    "\n",
    "df[\"w\"] = df[\"boxwidth\"] / df[\"imgwidth\"]\n",
    "df[\"h\"] = df[\"boxheight\"] / df[\"imgheight\"]\n",
    "df.head()"
   ]
  },
  {
   "cell_type": "code",
   "execution_count": 69,
   "id": "1ff3f555-b08f-41f5-aa57-cb5804072101",
   "metadata": {},
   "outputs": [],
   "source": [
    "unique_names = df[\"name\"].unique()\n",
    "\n",
    "labels = dict()\n",
    "for num in range(len(unique_names)):\n",
    "    labels[unique_names[num]] = num\n",
    "\n",
    "df[\"id\"] = df[\"name\"].map(labels)"
   ]
  },
  {
   "cell_type": "code",
   "execution_count": 70,
   "id": "5e0aa0a4-41d7-4eab-888c-fc2437e9138e",
   "metadata": {},
   "outputs": [
    {
     "data": {
      "text/plain": [
       "2687"
      ]
     },
     "execution_count": 70,
     "metadata": {},
     "output_type": "execute_result"
    }
   ],
   "source": [
    "images = df['filename'].unique()\n",
    "len(images)"
   ]
  },
  {
   "cell_type": "code",
   "execution_count": 71,
   "id": "37c43283-4edc-4909-a44d-62044c43cf57",
   "metadata": {},
   "outputs": [
    {
     "data": {
      "text/html": [
       "<div>\n",
       "<style scoped>\n",
       "    .dataframe tbody tr th:only-of-type {\n",
       "        vertical-align: middle;\n",
       "    }\n",
       "\n",
       "    .dataframe tbody tr th {\n",
       "        vertical-align: top;\n",
       "    }\n",
       "\n",
       "    .dataframe thead th {\n",
       "        text-align: right;\n",
       "    }\n",
       "</style>\n",
       "<table border=\"1\" class=\"dataframe\">\n",
       "  <thead>\n",
       "    <tr style=\"text-align: right;\">\n",
       "      <th></th>\n",
       "      <th>filename</th>\n",
       "    </tr>\n",
       "  </thead>\n",
       "  <tbody>\n",
       "    <tr>\n",
       "      <th>0</th>\n",
       "      <td>a5bd67a6-9a0f-45b3-85a7-017d5f77fc66.png</td>\n",
       "    </tr>\n",
       "    <tr>\n",
       "      <th>1</th>\n",
       "      <td>cc3640a1-beb6-454b-9f86-02942a7c4006.png</td>\n",
       "    </tr>\n",
       "    <tr>\n",
       "      <th>2</th>\n",
       "      <td>2f3758f6-2fc1-4c18-b8af-02ccb66f8c36.png</td>\n",
       "    </tr>\n",
       "    <tr>\n",
       "      <th>3</th>\n",
       "      <td>02d00747-6b43-4bd4-8095-031c6fec4eb0.png</td>\n",
       "    </tr>\n",
       "    <tr>\n",
       "      <th>4</th>\n",
       "      <td>a1011047-2d88-4703-b11b-0334b1cc95e3.png</td>\n",
       "    </tr>\n",
       "  </tbody>\n",
       "</table>\n",
       "</div>"
      ],
      "text/plain": [
       "                                   filename\n",
       "0  a5bd67a6-9a0f-45b3-85a7-017d5f77fc66.png\n",
       "1  cc3640a1-beb6-454b-9f86-02942a7c4006.png\n",
       "2  2f3758f6-2fc1-4c18-b8af-02ccb66f8c36.png\n",
       "3  02d00747-6b43-4bd4-8095-031c6fec4eb0.png\n",
       "4  a1011047-2d88-4703-b11b-0334b1cc95e3.png"
      ]
     },
     "execution_count": 71,
     "metadata": {},
     "output_type": "execute_result"
    }
   ],
   "source": [
    "img_df = pd.DataFrame(images, columns=['filename'])\n",
    "img_df.head()"
   ]
  },
  {
   "cell_type": "code",
   "execution_count": 72,
   "id": "0b6176dd-a156-4f2f-9bbb-16e249468910",
   "metadata": {},
   "outputs": [],
   "source": [
    "img_train = tuple(img_df.sample(frac=0.8)['filename'])\n",
    "#shuffling data and picking 80% of images"
   ]
  },
  {
   "cell_type": "code",
   "execution_count": 73,
   "id": "f8929a90-2359-470a-bd97-326ffc3be364",
   "metadata": {
    "scrolled": true
   },
   "outputs": [
    {
     "data": {
      "text/plain": [
       "(2150, 537)"
      ]
     },
     "execution_count": 73,
     "metadata": {},
     "output_type": "execute_result"
    }
   ],
   "source": [
    "#picking all images that were not in the 80% train set (the other 20%)\n",
    "img_test = tuple(img_df[~img_df['filename'].isin(img_train)]['filename'])\n",
    "len(img_train), len(img_test) #length of each set"
   ]
  },
  {
   "cell_type": "code",
   "execution_count": 74,
   "id": "62626f34-1c69-46b8-8042-dae96915fdf0",
   "metadata": {},
   "outputs": [],
   "source": [
    "#making dataframes\n",
    "train_df = df.query(f'filename in {img_train}')\n",
    "test_df = df.query(f'filename in {img_test}')"
   ]
  },
  {
   "cell_type": "code",
   "execution_count": 75,
   "id": "68974d27-dd9b-4ac3-9846-e8f4f32e0c6c",
   "metadata": {},
   "outputs": [
    {
     "data": {
      "text/html": [
       "<div>\n",
       "<style scoped>\n",
       "    .dataframe tbody tr th:only-of-type {\n",
       "        vertical-align: middle;\n",
       "    }\n",
       "\n",
       "    .dataframe tbody tr th {\n",
       "        vertical-align: top;\n",
       "    }\n",
       "\n",
       "    .dataframe thead th {\n",
       "        text-align: right;\n",
       "    }\n",
       "</style>\n",
       "<table border=\"1\" class=\"dataframe\">\n",
       "  <thead>\n",
       "    <tr style=\"text-align: right;\">\n",
       "      <th></th>\n",
       "      <th>filename</th>\n",
       "      <th>imgwidth</th>\n",
       "      <th>imgheight</th>\n",
       "      <th>name</th>\n",
       "      <th>boxwidth</th>\n",
       "      <th>boxheight</th>\n",
       "      <th>boxx</th>\n",
       "      <th>boxy</th>\n",
       "      <th>center_x</th>\n",
       "      <th>center_y</th>\n",
       "      <th>w</th>\n",
       "      <th>h</th>\n",
       "      <th>id</th>\n",
       "    </tr>\n",
       "  </thead>\n",
       "  <tbody>\n",
       "    <tr>\n",
       "      <th>110</th>\n",
       "      <td>03179563-b13c-4669-a1c0-06d8dc1da6d4.png</td>\n",
       "      <td>1920</td>\n",
       "      <td>1079</td>\n",
       "      <td>Ophiuroidea</td>\n",
       "      <td>180</td>\n",
       "      <td>162</td>\n",
       "      <td>38</td>\n",
       "      <td>23</td>\n",
       "      <td>0.066667</td>\n",
       "      <td>0.096386</td>\n",
       "      <td>0.093750</td>\n",
       "      <td>0.150139</td>\n",
       "      <td>2</td>\n",
       "    </tr>\n",
       "    <tr>\n",
       "      <th>111</th>\n",
       "      <td>03179563-b13c-4669-a1c0-06d8dc1da6d4.png</td>\n",
       "      <td>1920</td>\n",
       "      <td>1079</td>\n",
       "      <td>Ophiuroidea</td>\n",
       "      <td>188</td>\n",
       "      <td>264</td>\n",
       "      <td>1555</td>\n",
       "      <td>152</td>\n",
       "      <td>0.858854</td>\n",
       "      <td>0.263207</td>\n",
       "      <td>0.097917</td>\n",
       "      <td>0.244671</td>\n",
       "      <td>2</td>\n",
       "    </tr>\n",
       "    <tr>\n",
       "      <th>112</th>\n",
       "      <td>03179563-b13c-4669-a1c0-06d8dc1da6d4.png</td>\n",
       "      <td>1920</td>\n",
       "      <td>1079</td>\n",
       "      <td>Hyalonema (Corynonema) populiferum</td>\n",
       "      <td>677</td>\n",
       "      <td>828</td>\n",
       "      <td>607</td>\n",
       "      <td>61</td>\n",
       "      <td>0.492448</td>\n",
       "      <td>0.440222</td>\n",
       "      <td>0.352604</td>\n",
       "      <td>0.767377</td>\n",
       "      <td>17</td>\n",
       "    </tr>\n",
       "    <tr>\n",
       "      <th>113</th>\n",
       "      <td>03179563-b13c-4669-a1c0-06d8dc1da6d4.png</td>\n",
       "      <td>1920</td>\n",
       "      <td>1079</td>\n",
       "      <td>Holothuroidea</td>\n",
       "      <td>361</td>\n",
       "      <td>393</td>\n",
       "      <td>209</td>\n",
       "      <td>679</td>\n",
       "      <td>0.202865</td>\n",
       "      <td>0.811399</td>\n",
       "      <td>0.188021</td>\n",
       "      <td>0.364226</td>\n",
       "      <td>18</td>\n",
       "    </tr>\n",
       "    <tr>\n",
       "      <th>114</th>\n",
       "      <td>03179563-b13c-4669-a1c0-06d8dc1da6d4.png</td>\n",
       "      <td>1920</td>\n",
       "      <td>1079</td>\n",
       "      <td>Ophiuroidea</td>\n",
       "      <td>190</td>\n",
       "      <td>198</td>\n",
       "      <td>20</td>\n",
       "      <td>320</td>\n",
       "      <td>0.059896</td>\n",
       "      <td>0.388323</td>\n",
       "      <td>0.098958</td>\n",
       "      <td>0.183503</td>\n",
       "      <td>2</td>\n",
       "    </tr>\n",
       "  </tbody>\n",
       "</table>\n",
       "</div>"
      ],
      "text/plain": [
       "                                     filename  imgwidth  imgheight  \\\n",
       "110  03179563-b13c-4669-a1c0-06d8dc1da6d4.png      1920       1079   \n",
       "111  03179563-b13c-4669-a1c0-06d8dc1da6d4.png      1920       1079   \n",
       "112  03179563-b13c-4669-a1c0-06d8dc1da6d4.png      1920       1079   \n",
       "113  03179563-b13c-4669-a1c0-06d8dc1da6d4.png      1920       1079   \n",
       "114  03179563-b13c-4669-a1c0-06d8dc1da6d4.png      1920       1079   \n",
       "\n",
       "                                   name  boxwidth  boxheight  boxx  boxy  \\\n",
       "110                         Ophiuroidea       180        162    38    23   \n",
       "111                         Ophiuroidea       188        264  1555   152   \n",
       "112  Hyalonema (Corynonema) populiferum       677        828   607    61   \n",
       "113                       Holothuroidea       361        393   209   679   \n",
       "114                         Ophiuroidea       190        198    20   320   \n",
       "\n",
       "     center_x  center_y         w         h  id  \n",
       "110  0.066667  0.096386  0.093750  0.150139   2  \n",
       "111  0.858854  0.263207  0.097917  0.244671   2  \n",
       "112  0.492448  0.440222  0.352604  0.767377  17  \n",
       "113  0.202865  0.811399  0.188021  0.364226  18  \n",
       "114  0.059896  0.388323  0.098958  0.183503   2  "
      ]
     },
     "execution_count": 75,
     "metadata": {},
     "output_type": "execute_result"
    }
   ],
   "source": [
    "train_df.head()\n",
    "test_df.head()"
   ]
  },
  {
   "cell_type": "code",
   "execution_count": 76,
   "id": "6619b13a-6e75-480a-befe-aac2b748bac7",
   "metadata": {},
   "outputs": [],
   "source": [
    "os.makedirs(\"images/images/train\", exist_ok=True)\n",
    "os.makedirs(\"images/images/val\", exist_ok=True)\n",
    "os.makedirs(\"images/labels/train\", exist_ok=True)\n",
    "os.makedirs(\"images/labels/val\", exist_ok=True)"
   ]
  },
  {
   "cell_type": "code",
   "execution_count": 77,
   "id": "ec7450c0-98c9-4978-8c70-a7fb7c8a66a6",
   "metadata": {},
   "outputs": [],
   "source": [
    "columns = [\"filename\", \"id\", \"center_x\", \"center_y\", \"w\", \"h\"]\n",
    "groupby_obj_train = train_df[columns].groupby(\"filename\")\n",
    "groupby_obj_test = test_df[columns].groupby(\"filename\")"
   ]
  },
  {
   "cell_type": "code",
   "execution_count": 78,
   "id": "dd8faa9b-cf5d-4ade-af9e-a7de1bd1a0a8",
   "metadata": {},
   "outputs": [],
   "source": [
    "def save_data(filename, images_folder_path, labels_folder_path, group_obj):\n",
    "    source = os.path.join(\"images\", filename)\n",
    "    destination = os.path.join(images_folder_path, filename)\n",
    "    move(source, destination)\n",
    "\n",
    "    text_filename = os.path.join(labels_folder_path,os.path.splitext(filename)[0] + \".txt\")\n",
    "    group_obj.get_group(filename).set_index(\"filename\").to_csv(text_filename,sep=' ',index=False,header=False) "
   ]
  },
  {
   "cell_type": "code",
   "execution_count": 79,
   "id": "62589c29-4288-47b2-b903-6307e51db8eb",
   "metadata": {},
   "outputs": [
    {
     "data": {
      "text/plain": [
       "0       None\n",
       "1       None\n",
       "2       None\n",
       "3       None\n",
       "4       None\n",
       "        ... \n",
       "2145    None\n",
       "2146    None\n",
       "2147    None\n",
       "2148    None\n",
       "2149    None\n",
       "Length: 2150, dtype: object"
      ]
     },
     "execution_count": 79,
     "metadata": {},
     "output_type": "execute_result"
    }
   ],
   "source": [
    "filename_series_train = pd.Series(groupby_obj_train.groups.keys())\n",
    "filename_series_train.apply(save_data,args=(\"images/images/train\",\"images/labels/train\",groupby_obj_train))"
   ]
  },
  {
   "cell_type": "code",
   "execution_count": 80,
   "id": "ccdf18b4-61a9-4da2-a3d7-a948ae6418fc",
   "metadata": {},
   "outputs": [
    {
     "data": {
      "text/plain": [
       "0      None\n",
       "1      None\n",
       "2      None\n",
       "3      None\n",
       "4      None\n",
       "       ... \n",
       "532    None\n",
       "533    None\n",
       "534    None\n",
       "535    None\n",
       "536    None\n",
       "Length: 537, dtype: object"
      ]
     },
     "execution_count": 80,
     "metadata": {},
     "output_type": "execute_result"
    }
   ],
   "source": [
    "filename_series_test = pd.Series(groupby_obj_test.groups.keys())\n",
    "filename_series_test.apply(save_data,args=(\"images/images/val\",\"images/labels/val\",groupby_obj_test))"
   ]
  },
  {
   "cell_type": "code",
   "execution_count": 81,
   "id": "b22a0145-b7ad-4e13-abe6-43d9b150d4d3",
   "metadata": {},
   "outputs": [],
   "source": [
    "data = {\n",
    "    'train': 'images/images/train',\n",
    "    'val': 'images/images/test',\n",
    "    'nc': len(labels), \n",
    "    'names': list(labels.keys()) \n",
    "}\n",
    "\n",
    "with open('data.yaml', 'w') as file:\n",
    "    yaml.dump(data, file, default_flow_style=False, sort_keys=False)\n"
   ]
  },
  {
   "cell_type": "code",
   "execution_count": null,
   "id": "b24d6bc9-9b3f-4b12-8b5b-84ca0ac8ec0b",
   "metadata": {},
   "outputs": [],
   "source": []
  },
  {
   "cell_type": "code",
   "execution_count": null,
   "id": "7c4a77d6-7626-4e3b-b328-1c2e07957805",
   "metadata": {},
   "outputs": [],
   "source": []
  },
  {
   "cell_type": "code",
   "execution_count": null,
   "id": "d6edb6b3-c056-4c66-b3b2-1bf72dbc1f93",
   "metadata": {},
   "outputs": [],
   "source": []
  },
  {
   "cell_type": "code",
   "execution_count": null,
   "id": "0e65bbe8-b234-4243-a575-d0bad7e629bf",
   "metadata": {},
   "outputs": [],
   "source": []
  },
  {
   "cell_type": "code",
   "execution_count": null,
   "id": "d139ad9b-df86-4ed9-96a9-52fd9f2d2cae",
   "metadata": {},
   "outputs": [],
   "source": []
  },
  {
   "cell_type": "code",
   "execution_count": null,
   "id": "83a92157-f571-40b4-a24f-a2a8c0d0ddf3",
   "metadata": {},
   "outputs": [],
   "source": []
  },
  {
   "cell_type": "code",
   "execution_count": null,
   "id": "6009c7cf-787e-44b3-8353-082d686e0337",
   "metadata": {},
   "outputs": [],
   "source": []
  },
  {
   "cell_type": "code",
   "execution_count": null,
   "id": "a746b4cb-c800-42dc-a389-37e9ff392384",
   "metadata": {},
   "outputs": [],
   "source": []
  },
  {
   "cell_type": "code",
   "execution_count": null,
   "id": "bfe574c0-f51d-473c-9592-75d4a4389565",
   "metadata": {},
   "outputs": [],
   "source": []
  },
  {
   "cell_type": "code",
   "execution_count": null,
   "id": "4fe3dc23-f0cc-4bd1-9e18-9ac92c986ad7",
   "metadata": {},
   "outputs": [],
   "source": []
  }
 ],
 "metadata": {
  "kernelspec": {
   "display_name": "Python 3 (ipykernel)",
   "language": "python",
   "name": "python3"
  },
  "language_info": {
   "codemirror_mode": {
    "name": "ipython",
    "version": 3
   },
   "file_extension": ".py",
   "mimetype": "text/x-python",
   "name": "python",
   "nbconvert_exporter": "python",
   "pygments_lexer": "ipython3",
   "version": "3.12.0"
  }
 },
 "nbformat": 4,
 "nbformat_minor": 5
}
